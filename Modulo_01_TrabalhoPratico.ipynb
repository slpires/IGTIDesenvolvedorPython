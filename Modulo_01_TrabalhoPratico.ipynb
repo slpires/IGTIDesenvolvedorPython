{
  "nbformat": 4,
  "nbformat_minor": 0,
  "metadata": {
    "colab": {
      "name": "Untitled1.ipynb",
      "provenance": [],
      "private_outputs": true,
      "authorship_tag": "ABX9TyPcQpW6V5yU07QZ1naMDvVn",
      "include_colab_link": true
    },
    "kernelspec": {
      "name": "python3",
      "display_name": "Python 3"
    }
  },
  "cells": [
    {
      "cell_type": "markdown",
      "metadata": {
        "id": "view-in-github",
        "colab_type": "text"
      },
      "source": [
        "<a href=\"https://colab.research.google.com/github/slpires/IGTIDesenvolvedorPython/blob/master/Modulo_01_TrabalhoPratico.ipynb\" target=\"_parent\"><img src=\"https://colab.research.google.com/assets/colab-badge.svg\" alt=\"Open In Colab\"/></a>"
      ]
    },
    {
      "cell_type": "code",
      "metadata": {
        "id": "NaSjPpRSZeob",
        "colab_type": "code",
        "colab": {}
      },
      "source": [
        "idade = int(input(\"Entre com a sua idade\"))\n",
        "nova_idade = idade + 1\n",
        "print(\"No próximo ano você terá: {} anos\".format(nova_idade))"
      ],
      "execution_count": null,
      "outputs": []
    },
    {
      "cell_type": "code",
      "metadata": {
        "id": "mOscho10a6Ag",
        "colab_type": "code",
        "colab": {}
      },
      "source": [
        "lado_a = 35\n",
        "lado_b = 14.3333\n",
        "area_do_retangulo = (lado_a)*(lado_b)\n",
        "print('O retãngulo de lado A = %.d e lado B = %.2f é %.3f'%(lado_a, lado_b, area_do_retangulo))"
      ],
      "execution_count": null,
      "outputs": []
    },
    {
      "cell_type": "code",
      "metadata": {
        "id": "L0ji7fZ9b7Mv",
        "colab_type": "code",
        "colab": {}
      },
      "source": [
        "lista_1 = [1, 2, 'IGTI']\n",
        "lista_2 = [2, 3, 'Bootcamp']\n",
        "lista_3 = lista_1 + lista_2\n",
        "print(lista_3)\n",
        "#lista_3 = lista_3.append(\"teste\")\n",
        "#print(lista_3)\n",
        "lista_4 = {}\n",
        "print(lista_3)\n",
        "print(lista_3[1])\n",
        "print(lista_4)"
      ],
      "execution_count": null,
      "outputs": []
    },
    {
      "cell_type": "code",
      "metadata": {
        "id": "HmRFOprFdSFT",
        "colab_type": "code",
        "colab": {}
      },
      "source": [
        "adivinhacao = [5, 6, 10, 14, 16, 20, 30]\n",
        "type(adivinhacao)\n",
        "type(adivinhacao[0])"
      ],
      "execution_count": null,
      "outputs": []
    },
    {
      "cell_type": "code",
      "metadata": {
        "id": "3nRAeD22enOM",
        "colab_type": "code",
        "colab": {}
      },
      "source": [
        "frutas = [\"maça\", \"banana\", \"uva\", \"goiaba\"]\n",
        "for x in frutas:\n",
        "    if x == \"uva\":\n",
        "        break\n",
        "    print(x)"
      ],
      "execution_count": null,
      "outputs": []
    },
    {
      "cell_type": "code",
      "metadata": {
        "id": "GiW1HLT_fQDe",
        "colab_type": "code",
        "colab": {}
      },
      "source": [
        "n = 5\n",
        "while n >= 0:\n",
        "    n -= 1\n",
        "    print(n)"
      ],
      "execution_count": null,
      "outputs": []
    }
  ]
}