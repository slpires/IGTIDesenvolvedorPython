{
  "nbformat": 4,
  "nbformat_minor": 0,
  "metadata": {
    "colab": {
      "name": "Untitled0.ipynb",
      "provenance": [],
      "private_outputs": true,
      "collapsed_sections": [],
      "authorship_tag": "ABX9TyNIah5qQbIObithOpJjb3y7",
      "include_colab_link": true
    },
    "kernelspec": {
      "name": "python3",
      "display_name": "Python 3"
    }
  },
  "cells": [
    {
      "cell_type": "markdown",
      "metadata": {
        "id": "view-in-github",
        "colab_type": "text"
      },
      "source": [
        "<a href=\"https://colab.research.google.com/github/slpires/IGTIDesenvolvedorPython/blob/master/Modulo_01_Desafio.ipynb\" target=\"_parent\"><img src=\"https://colab.research.google.com/assets/colab-badge.svg\" alt=\"Open In Colab\"/></a>"
      ]
    },
    {
      "cell_type": "markdown",
      "metadata": {
        "id": "v8m725ABpStg",
        "colab_type": "text"
      },
      "source": [
        "Módulo 01 - Desafio - Código 1"
      ]
    },
    {
      "cell_type": "code",
      "metadata": {
        "id": "IpKEB1nsoXh7",
        "colab_type": "code",
        "colab": {}
      },
      "source": [
        "def funcao_1(num1, num2):\n",
        "    resultado = num1 * num2\n",
        "    #if resultado <= 1000:\n",
        "    #if resultado % 2 == 0:\n",
        "    #    return resultado\n",
        "    #else:\n",
        "    #    return num1 + num2\n",
        "#numero_1 = 20\n",
        "#numero_1 = 10\n",
        "numero_1 = 120\n",
        "#numero_2 = 30\n",
        "#numero_2 = 20\n",
        "numero_2 = 10\n",
        "funcao_1(numero_1, numero_2)\n",
        "\n"
      ],
      "execution_count": null,
      "outputs": []
    },
    {
      "cell_type": "markdown",
      "metadata": {
        "id": "rd9lKDPSrYkU",
        "colab_type": "text"
      },
      "source": [
        "Módulo 01 - Desafio - Código 2"
      ]
    },
    {
      "cell_type": "code",
      "metadata": {
        "id": "FSFktcX-rbqG",
        "colab_type": "code",
        "colab": {}
      },
      "source": [
        "def funcao_2(num):\n",
        "    numero_anterior = 0\n",
        "    for i in range(num):\n",
        "        resultado = numero_anterior + i\n",
        "        objeto_list = list(range(num))\n",
        "        print(\"Número A\", i, \"Número B\", numero_anterior, \"Resultado: \", resultado)\n",
        "        numero_anterior = i\n",
        "funcao_2(10)\n",
        "#funcao_2(10,5)\n",
        "\n"
      ],
      "execution_count": null,
      "outputs": []
    },
    {
      "cell_type": "markdown",
      "metadata": {
        "id": "-sR6VB-fvyqS",
        "colab_type": "text"
      },
      "source": [
        "Módulo 01 - Desafio - Códigos 3 e 4 "
      ]
    },
    {
      "cell_type": "code",
      "metadata": {
        "id": "ckTejTlkv4M8",
        "colab_type": "code",
        "colab": {}
      },
      "source": [
        "def funcao_4(lista_numerica):\n",
        "    print(\"valor passado \", lista_numerica)\n",
        "    a = lista_numerica[0]\n",
        "    b = lista_numerica[-1]\n",
        "    if (a == b):\n",
        "#    if (a != b):\n",
        "        return True\n",
        "    else:\n",
        "        return False\n",
        "\n",
        "numeros = [10, 20, 30, 40, 10]\n",
        "\n",
        "funcao_4(numeros)"
      ],
      "execution_count": null,
      "outputs": []
    },
    {
      "cell_type": "markdown",
      "metadata": {
        "id": "Kle3vkms0N1k",
        "colab_type": "text"
      },
      "source": [
        "Módulo 01 - Desafio - Código 5"
      ]
    },
    {
      "cell_type": "code",
      "metadata": {
        "id": "bU3EZbO40UO7",
        "colab_type": "code",
        "colab": {}
      },
      "source": [
        "#class Classe_1:\n",
        "#    def funcao_da_classe_1(self, string):\n",
        "#def funcao_da_classe_1():\n",
        "dicionario = {'I': 1, 'V': 5, 'X': 10, 'L': 50, 'C': 100, 'D': 500, 'M': 1000}\n",
        "valor = 0\n",
        "for i in range(7):\n",
        "#        for i in range(len(string)):\n",
        "    if i > 0 and dicionario[string[i]] > dicionario[string[i - 1]]:\n",
        "        valor += dicionario[string[i]] - 2 * dicionario[string[i - 1]]\n",
        "    else:\n",
        "valor += dicionario[i]\n",
        "    #    return valor\n",
        "\n",
        "print(valor)"
      ],
      "execution_count": null,
      "outputs": []
    }
  ]
}