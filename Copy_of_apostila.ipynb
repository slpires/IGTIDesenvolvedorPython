{
  "nbformat": 4,
  "nbformat_minor": 0,
  "metadata": {
    "colab": {
      "name": "Copy of apostila.ipynb",
      "provenance": []
    },
    "kernelspec": {
      "name": "python3",
      "display_name": "Python 3"
    }
  },
  "cells": [
    {
      "cell_type": "code",
      "metadata": {
        "id": "xGetUvkKPBUR",
        "colab_type": "code",
        "colab": {
          "base_uri": "https://localhost:8080/",
          "height": 374
        },
        "outputId": "e4b5ec63-99c5-43f0-b3b0-d89ada1d08fd"
      },
      "source": [
        "import this"
      ],
      "execution_count": null,
      "outputs": [
        {
          "output_type": "stream",
          "text": [
            "The Zen of Python, by Tim Peters\n",
            "\n",
            "Beautiful is better than ugly.\n",
            "Explicit is better than implicit.\n",
            "Simple is better than complex.\n",
            "Complex is better than complicated.\n",
            "Flat is better than nested.\n",
            "Sparse is better than dense.\n",
            "Readability counts.\n",
            "Special cases aren't special enough to break the rules.\n",
            "Although practicality beats purity.\n",
            "Errors should never pass silently.\n",
            "Unless explicitly silenced.\n",
            "In the face of ambiguity, refuse the temptation to guess.\n",
            "There should be one-- and preferably only one --obvious way to do it.\n",
            "Although that way may not be obvious at first unless you're Dutch.\n",
            "Now is better than never.\n",
            "Although never is often better than *right* now.\n",
            "If the implementation is hard to explain, it's a bad idea.\n",
            "If the implementation is easy to explain, it may be a good idea.\n",
            "Namespaces are one honking great idea -- let's do more of those!\n"
          ],
          "name": "stdout"
        }
      ]
    },
    {
      "cell_type": "code",
      "metadata": {
        "id": "C-Axn_7bPJxG",
        "colab_type": "code",
        "colab": {}
      },
      "source": [
        "minha_string =\"Disciplina Aplicações em Deep Learning\"  #armazena a string"
      ],
      "execution_count": null,
      "outputs": []
    },
    {
      "cell_type": "code",
      "metadata": {
        "id": "xDeo7hFyHLB-",
        "colab_type": "code",
        "colab": {
          "base_uri": "https://localhost:8080/",
          "height": 34
        },
        "outputId": "64d6cb1f-6bf6-4b05-f87f-060a51fd40c1"
      },
      "source": [
        "id(minha_string) #identificador do objeto"
      ],
      "execution_count": null,
      "outputs": [
        {
          "output_type": "execute_result",
          "data": {
            "text/plain": [
              "139908227640056"
            ]
          },
          "metadata": {
            "tags": []
          },
          "execution_count": 4
        }
      ]
    },
    {
      "cell_type": "code",
      "metadata": {
        "id": "rF1T9UqvHS62",
        "colab_type": "code",
        "colab": {
          "base_uri": "https://localhost:8080/",
          "height": 34
        },
        "outputId": "fd3369e6-d87f-4206-dd80-fefeb79e0859"
      },
      "source": [
        "type(minha_string) #tipo de objeto "
      ],
      "execution_count": null,
      "outputs": [
        {
          "output_type": "execute_result",
          "data": {
            "text/plain": [
              "str"
            ]
          },
          "metadata": {
            "tags": []
          },
          "execution_count": 5
        }
      ]
    },
    {
      "cell_type": "code",
      "metadata": {
        "id": "zL0bJ1iQHWge",
        "colab_type": "code",
        "colab": {
          "base_uri": "https://localhost:8080/",
          "height": 34
        },
        "outputId": "e81f3048-5c9f-4e1a-9b18-103b64e5bcc7"
      },
      "source": [
        "minha_string  #mostra a string armazenada"
      ],
      "execution_count": null,
      "outputs": [
        {
          "output_type": "execute_result",
          "data": {
            "text/plain": [
              "'Disciplina Aplicações em Deep Learning'"
            ]
          },
          "metadata": {
            "tags": []
          },
          "execution_count": 6
        }
      ]
    },
    {
      "cell_type": "code",
      "metadata": {
        "id": "7uk_NK1VJ6PC",
        "colab_type": "code",
        "colab": {}
      },
      "source": [
        "numero_inteiro= 1234 # representação de numero inteiro"
      ],
      "execution_count": null,
      "outputs": []
    },
    {
      "cell_type": "code",
      "metadata": {
        "id": "DV4b-QiOKAbs",
        "colab_type": "code",
        "colab": {
          "base_uri": "https://localhost:8080/",
          "height": 34
        },
        "outputId": "b97b7328-b764-4492-c849-e53c9b270521"
      },
      "source": [
        "type(numero_inteiro)"
      ],
      "execution_count": null,
      "outputs": [
        {
          "output_type": "execute_result",
          "data": {
            "text/plain": [
              "int"
            ]
          },
          "metadata": {
            "tags": []
          },
          "execution_count": 14
        }
      ]
    },
    {
      "cell_type": "code",
      "metadata": {
        "id": "5s-u3ABZKDuh",
        "colab_type": "code",
        "colab": {
          "base_uri": "https://localhost:8080/",
          "height": 34
        },
        "outputId": "898ac95d-33cc-42b5-ea64-01b8fe880870"
      },
      "source": [
        "numero_inteiro + 10  # adição"
      ],
      "execution_count": null,
      "outputs": [
        {
          "output_type": "execute_result",
          "data": {
            "text/plain": [
              "1244"
            ]
          },
          "metadata": {
            "tags": []
          },
          "execution_count": 15
        }
      ]
    },
    {
      "cell_type": "code",
      "metadata": {
        "id": "9XLpE42TKMu8",
        "colab_type": "code",
        "colab": {
          "base_uri": "https://localhost:8080/",
          "height": 34
        },
        "outputId": "db2033da-87cb-451f-d3fb-bbe2e5d37648"
      },
      "source": [
        "numero_inteiro - 10 #subtração"
      ],
      "execution_count": null,
      "outputs": [
        {
          "output_type": "execute_result",
          "data": {
            "text/plain": [
              "1224"
            ]
          },
          "metadata": {
            "tags": []
          },
          "execution_count": 16
        }
      ]
    },
    {
      "cell_type": "code",
      "metadata": {
        "id": "sEuq9yN4KStZ",
        "colab_type": "code",
        "colab": {
          "base_uri": "https://localhost:8080/",
          "height": 34
        },
        "outputId": "4d21c4b0-dca3-45a9-c970-996b572ef402"
      },
      "source": [
        "numero_inteiro * 2  # multiplicação"
      ],
      "execution_count": null,
      "outputs": [
        {
          "output_type": "execute_result",
          "data": {
            "text/plain": [
              "2468"
            ]
          },
          "metadata": {
            "tags": []
          },
          "execution_count": 17
        }
      ]
    },
    {
      "cell_type": "code",
      "metadata": {
        "id": "eGPCy9p9Kbin",
        "colab_type": "code",
        "colab": {
          "base_uri": "https://localhost:8080/",
          "height": 34
        },
        "outputId": "6f08921c-6657-4fdb-b5b6-d4b21aa3b3a6"
      },
      "source": [
        "numero_inteiro / 2 # divisão"
      ],
      "execution_count": null,
      "outputs": [
        {
          "output_type": "execute_result",
          "data": {
            "text/plain": [
              "617.0"
            ]
          },
          "metadata": {
            "tags": []
          },
          "execution_count": 18
        }
      ]
    },
    {
      "cell_type": "code",
      "metadata": {
        "id": "lenWq914LsrG",
        "colab_type": "code",
        "colab": {}
      },
      "source": [
        "s1 = \"Esta é a disciplina\""
      ],
      "execution_count": null,
      "outputs": []
    },
    {
      "cell_type": "code",
      "metadata": {
        "id": "r5qnnGRSRXU7",
        "colab_type": "code",
        "colab": {}
      },
      "source": [
        "s2 = \" Aplicações em Deep Learning\""
      ],
      "execution_count": null,
      "outputs": []
    },
    {
      "cell_type": "code",
      "metadata": {
        "id": "DuuqlAATSAb1",
        "colab_type": "code",
        "colab": {
          "base_uri": "https://localhost:8080/",
          "height": 34
        },
        "outputId": "a5a0ce2b-28b2-46ef-ba6d-5e2639dd6138"
      },
      "source": [
        "print(s1,s2)"
      ],
      "execution_count": null,
      "outputs": [
        {
          "output_type": "stream",
          "text": [
            "Esta é a disciplina  Aplicações em Deep Learning\n"
          ],
          "name": "stdout"
        }
      ]
    },
    {
      "cell_type": "code",
      "metadata": {
        "id": "UTDE9i27SH8X",
        "colab_type": "code",
        "colab": {
          "base_uri": "https://localhost:8080/",
          "height": 52
        },
        "outputId": "ef633477-7d87-4911-97cf-a548097fedaa"
      },
      "source": [
        "print(s1+'\\n'+s2)"
      ],
      "execution_count": null,
      "outputs": [
        {
          "output_type": "stream",
          "text": [
            "Esta é a disciplina\n",
            " Aplicações em Deep Learning\n"
          ],
          "name": "stdout"
        }
      ]
    },
    {
      "cell_type": "code",
      "metadata": {
        "id": "svjow_2XSICX",
        "colab_type": "code",
        "colab": {
          "base_uri": "https://localhost:8080/",
          "height": 34
        },
        "outputId": "19484ccd-26a3-46f0-bd85-b1d8daf106dc"
      },
      "source": [
        "''.join([s1,s2]) #concatena a lista de strings"
      ],
      "execution_count": null,
      "outputs": [
        {
          "output_type": "execute_result",
          "data": {
            "text/plain": [
              "'Esta é a disciplina Aplicações em Deep Learning'"
            ]
          },
          "metadata": {
            "tags": []
          },
          "execution_count": 6
        }
      ]
    },
    {
      "cell_type": "code",
      "metadata": {
        "id": "Y3FMHU0qSIHy",
        "colab_type": "code",
        "colab": {
          "base_uri": "https://localhost:8080/",
          "height": 34
        },
        "outputId": "f2b88f3c-78a0-4bbb-8aaf-24031c7d3335"
      },
      "source": [
        "s1[::-1] # percorre a string de maneira inversa"
      ],
      "execution_count": null,
      "outputs": [
        {
          "output_type": "execute_result",
          "data": {
            "text/plain": [
              "'anilpicsid a é atsE'"
            ]
          },
          "metadata": {
            "tags": []
          },
          "execution_count": 7
        }
      ]
    },
    {
      "cell_type": "code",
      "metadata": {
        "id": "1dqZRRiEUTXk",
        "colab_type": "code",
        "colab": {}
      },
      "source": [
        "l1= ['azul','branco', 'amarelo', 'vermelho']   #exemplo de criação de listas"
      ],
      "execution_count": null,
      "outputs": []
    },
    {
      "cell_type": "code",
      "metadata": {
        "id": "aOugQLAoUTaM",
        "colab_type": "code",
        "colab": {}
      },
      "source": [
        "l2= list ([1,'coxinha',10,'pasteis',0.25e-3])  #exemplo de criação de listas"
      ],
      "execution_count": null,
      "outputs": []
    },
    {
      "cell_type": "code",
      "metadata": {
        "id": "u1rcoVkvUTdD",
        "colab_type": "code",
        "colab": {}
      },
      "source": [
        "l3= [1,2,3,['a','b','c'], ['IGTI','ADL']]"
      ],
      "execution_count": null,
      "outputs": []
    },
    {
      "cell_type": "code",
      "metadata": {
        "id": "JZn-OrYbUTgA",
        "colab_type": "code",
        "colab": {
          "base_uri": "https://localhost:8080/",
          "height": 34
        },
        "outputId": "beb98627-c638-4bb0-d220-f3e899637254"
      },
      "source": [
        "print(l1,l2)"
      ],
      "execution_count": null,
      "outputs": [
        {
          "output_type": "stream",
          "text": [
            "['azul', 'branco', 'amarelo', 'vermelho'] [1, 'coxinha', 10, 'pasteis', 0.00025]\n"
          ],
          "name": "stdout"
        }
      ]
    },
    {
      "cell_type": "code",
      "metadata": {
        "id": "eaK1VDb0UTjP",
        "colab_type": "code",
        "colab": {
          "base_uri": "https://localhost:8080/",
          "height": 34
        },
        "outputId": "cf13820c-73a4-4f11-a389-76dd3f8562b6"
      },
      "source": [
        "print(l3)"
      ],
      "execution_count": null,
      "outputs": [
        {
          "output_type": "stream",
          "text": [
            "[1, 2, 3, ['a', 'b', 'c'], ['IGTI', 'ADL']]\n"
          ],
          "name": "stdout"
        }
      ]
    },
    {
      "cell_type": "code",
      "metadata": {
        "id": "N7NRhEn6UTnb",
        "colab_type": "code",
        "colab": {
          "base_uri": "https://localhost:8080/",
          "height": 34
        },
        "outputId": "32545e5d-02f3-4c47-b194-9a0d756d4b9d"
      },
      "source": [
        "#acessando itens das listas\n",
        "l1"
      ],
      "execution_count": null,
      "outputs": [
        {
          "output_type": "execute_result",
          "data": {
            "text/plain": [
              "['azul', 'branco', 'amarelo', 'vermelho']"
            ]
          },
          "metadata": {
            "tags": []
          },
          "execution_count": 14
        }
      ]
    },
    {
      "cell_type": "code",
      "metadata": {
        "id": "jU5tke5LVNpt",
        "colab_type": "code",
        "colab": {
          "base_uri": "https://localhost:8080/",
          "height": 34
        },
        "outputId": "49cf4bd3-e554-4efc-a376-19d4b54f0a0f"
      },
      "source": [
        "l1[0]"
      ],
      "execution_count": null,
      "outputs": [
        {
          "output_type": "execute_result",
          "data": {
            "text/plain": [
              "'azul'"
            ]
          },
          "metadata": {
            "tags": []
          },
          "execution_count": 15
        }
      ]
    },
    {
      "cell_type": "code",
      "metadata": {
        "id": "NhhxEhsoVNv1",
        "colab_type": "code",
        "colab": {
          "base_uri": "https://localhost:8080/",
          "height": 34
        },
        "outputId": "ec2fdcd0-5068-4daa-dd05-1a1a8b490795"
      },
      "source": [
        "l1[0]+' '+l1[2]"
      ],
      "execution_count": null,
      "outputs": [
        {
          "output_type": "execute_result",
          "data": {
            "text/plain": [
              "'azul amarelo'"
            ]
          },
          "metadata": {
            "tags": []
          },
          "execution_count": 16
        }
      ]
    },
    {
      "cell_type": "code",
      "metadata": {
        "id": "d2yJEA4wVN1H",
        "colab_type": "code",
        "colab": {
          "base_uri": "https://localhost:8080/",
          "height": 34
        },
        "outputId": "cc70981c-9df8-4e77-9165-cd9fa2dc738f"
      },
      "source": [
        "#acessando intervalos de itens \n",
        "l2[1:3]"
      ],
      "execution_count": null,
      "outputs": [
        {
          "output_type": "execute_result",
          "data": {
            "text/plain": [
              "['coxinha', 10]"
            ]
          },
          "metadata": {
            "tags": []
          },
          "execution_count": 17
        }
      ]
    },
    {
      "cell_type": "code",
      "metadata": {
        "id": "GNG4BXbhVN54",
        "colab_type": "code",
        "colab": {
          "base_uri": "https://localhost:8080/",
          "height": 34
        },
        "outputId": "627292c8-e0f8-40da-8f07-58fe7248bba7"
      },
      "source": [
        "numeros= list(range(10)) # gera uma lista contendo os numeros de 0 a 9\n",
        "numeros[:]"
      ],
      "execution_count": null,
      "outputs": [
        {
          "output_type": "execute_result",
          "data": {
            "text/plain": [
              "[0, 1, 2, 3, 4, 5, 6, 7, 8, 9]"
            ]
          },
          "metadata": {
            "tags": []
          },
          "execution_count": 28
        }
      ]
    },
    {
      "cell_type": "code",
      "metadata": {
        "id": "seRO-tESV_mg",
        "colab_type": "code",
        "colab": {
          "base_uri": "https://localhost:8080/",
          "height": 34
        },
        "outputId": "fae21a8c-24f1-49cf-d1c0-c8ba21a7c5d2"
      },
      "source": [
        "numeros[2:5]"
      ],
      "execution_count": null,
      "outputs": [
        {
          "output_type": "execute_result",
          "data": {
            "text/plain": [
              "[2, 3, 4]"
            ]
          },
          "metadata": {
            "tags": []
          },
          "execution_count": 29
        }
      ]
    },
    {
      "cell_type": "code",
      "metadata": {
        "id": "yLic6m0rWHwO",
        "colab_type": "code",
        "colab": {
          "base_uri": "https://localhost:8080/",
          "height": 34
        },
        "outputId": "0f629893-335b-4766-d724-27fb5907a9c2"
      },
      "source": [
        "#concatenando listas\n",
        "numeros*2"
      ],
      "execution_count": null,
      "outputs": [
        {
          "output_type": "execute_result",
          "data": {
            "text/plain": [
              "[0, 1, 2, 3, 4, 5, 6, 7, 8, 9, 0, 1, 2, 3, 4, 5, 6, 7, 8, 9]"
            ]
          },
          "metadata": {
            "tags": []
          },
          "execution_count": 30
        }
      ]
    },
    {
      "cell_type": "code",
      "metadata": {
        "id": "6yTkcN8bWH2v",
        "colab_type": "code",
        "colab": {
          "base_uri": "https://localhost:8080/",
          "height": 34
        },
        "outputId": "cfed33b3-3283-4506-b3c7-2a244317dc75"
      },
      "source": [
        "numeros+l2"
      ],
      "execution_count": null,
      "outputs": [
        {
          "output_type": "execute_result",
          "data": {
            "text/plain": [
              "[0, 1, 2, 3, 4, 5, 6, 7, 8, 9, 1, 'coxinha', 10, 'pasteis', 0.00025]"
            ]
          },
          "metadata": {
            "tags": []
          },
          "execution_count": 32
        }
      ]
    },
    {
      "cell_type": "code",
      "metadata": {
        "id": "Fc1er51JWIAJ",
        "colab_type": "code",
        "colab": {
          "base_uri": "https://localhost:8080/",
          "height": 34
        },
        "outputId": "64703ba7-dab7-4251-af5a-148354641d86"
      },
      "source": [
        "#acessando listas aninhadas\n",
        "l3"
      ],
      "execution_count": null,
      "outputs": [
        {
          "output_type": "execute_result",
          "data": {
            "text/plain": [
              "[1, 2, 3, ['a', 'b', 'c'], ['IGTI', 'ADL']]"
            ]
          },
          "metadata": {
            "tags": []
          },
          "execution_count": 33
        }
      ]
    },
    {
      "cell_type": "code",
      "metadata": {
        "id": "HXhZJS11W1Id",
        "colab_type": "code",
        "colab": {
          "base_uri": "https://localhost:8080/",
          "height": 34
        },
        "outputId": "9a65f315-4c8d-47cb-b4fa-82f21a36d129"
      },
      "source": [
        "l3[3]"
      ],
      "execution_count": null,
      "outputs": [
        {
          "output_type": "execute_result",
          "data": {
            "text/plain": [
              "['a', 'b', 'c']"
            ]
          },
          "metadata": {
            "tags": []
          },
          "execution_count": 34
        }
      ]
    },
    {
      "cell_type": "code",
      "metadata": {
        "id": "L0hfgK6KW1OI",
        "colab_type": "code",
        "colab": {
          "base_uri": "https://localhost:8080/",
          "height": 34
        },
        "outputId": "22b04f60-155d-4e8e-92cf-f3dbb69cf4df"
      },
      "source": [
        "l3[4]"
      ],
      "execution_count": null,
      "outputs": [
        {
          "output_type": "execute_result",
          "data": {
            "text/plain": [
              "['IGTI', 'ADL']"
            ]
          },
          "metadata": {
            "tags": []
          },
          "execution_count": 35
        }
      ]
    },
    {
      "cell_type": "code",
      "metadata": {
        "id": "Dl9acQSDW1Tx",
        "colab_type": "code",
        "colab": {
          "base_uri": "https://localhost:8080/",
          "height": 34
        },
        "outputId": "e73fb217-af2f-4b57-a210-82dfd867c948"
      },
      "source": [
        "l3[3][1]"
      ],
      "execution_count": null,
      "outputs": [
        {
          "output_type": "execute_result",
          "data": {
            "text/plain": [
              "'b'"
            ]
          },
          "metadata": {
            "tags": []
          },
          "execution_count": 36
        }
      ]
    },
    {
      "cell_type": "code",
      "metadata": {
        "id": "rownd57EW_c0",
        "colab_type": "code",
        "colab": {}
      },
      "source": [
        "#adicionando elemetos à lista\n",
        "l3.append('Aplicações em Deep Learning')\n"
      ],
      "execution_count": null,
      "outputs": []
    },
    {
      "cell_type": "code",
      "metadata": {
        "id": "jKrFMjGDXQLr",
        "colab_type": "code",
        "colab": {
          "base_uri": "https://localhost:8080/",
          "height": 34
        },
        "outputId": "b71742f2-9794-4ea8-fa77-676cdce6552c"
      },
      "source": [
        "l3"
      ],
      "execution_count": null,
      "outputs": [
        {
          "output_type": "execute_result",
          "data": {
            "text/plain": [
              "[1, 2, 3, ['a', 'b', 'c'], ['IGTI', 'ADL'], 'Aplicações em Deep Learning']"
            ]
          },
          "metadata": {
            "tags": []
          },
          "execution_count": 38
        }
      ]
    },
    {
      "cell_type": "code",
      "metadata": {
        "id": "K9YKTvbVXUdn",
        "colab_type": "code",
        "colab": {
          "base_uri": "https://localhost:8080/",
          "height": 34
        },
        "outputId": "1e5d587e-1287-445f-ab08-8979e6e3f4e2"
      },
      "source": [
        "#retirando um elemento da lista\n",
        "l3.pop(3)"
      ],
      "execution_count": null,
      "outputs": [
        {
          "output_type": "execute_result",
          "data": {
            "text/plain": [
              "['a', 'b', 'c']"
            ]
          },
          "metadata": {
            "tags": []
          },
          "execution_count": 39
        }
      ]
    },
    {
      "cell_type": "code",
      "metadata": {
        "id": "xEnYBlxGXa3C",
        "colab_type": "code",
        "colab": {
          "base_uri": "https://localhost:8080/",
          "height": 34
        },
        "outputId": "847aab9e-7a14-4611-e602-c01adf66b08a"
      },
      "source": [
        "l3"
      ],
      "execution_count": null,
      "outputs": [
        {
          "output_type": "execute_result",
          "data": {
            "text/plain": [
              "[1, 2, 3, ['IGTI', 'ADL'], 'Aplicações em Deep Learning']"
            ]
          },
          "metadata": {
            "tags": []
          },
          "execution_count": 40
        }
      ]
    },
    {
      "cell_type": "code",
      "metadata": {
        "id": "O6gjx0HcZR5b",
        "colab_type": "code",
        "colab": {}
      },
      "source": [
        "l1 = [1,2,3,3,3,4,5,5,5,6,6,7,7,7,7,8,8] #cria uma lista com numeros repetidos"
      ],
      "execution_count": null,
      "outputs": []
    },
    {
      "cell_type": "code",
      "metadata": {
        "id": "Hr3TdEj7ZR8J",
        "colab_type": "code",
        "colab": {
          "base_uri": "https://localhost:8080/",
          "height": 34
        },
        "outputId": "281a455f-3b79-4ab9-aeec-ab1f797da3c0"
      },
      "source": [
        "set(l1)    #cria um conjunto através do método set()"
      ],
      "execution_count": null,
      "outputs": [
        {
          "output_type": "execute_result",
          "data": {
            "text/plain": [
              "{1, 2, 3, 4, 5, 6, 7, 8}"
            ]
          },
          "metadata": {
            "tags": []
          },
          "execution_count": 42
        }
      ]
    },
    {
      "cell_type": "code",
      "metadata": {
        "id": "zM3PdD5jZR_i",
        "colab_type": "code",
        "colab": {}
      },
      "source": [
        "s1 = set(l1)"
      ],
      "execution_count": null,
      "outputs": []
    },
    {
      "cell_type": "code",
      "metadata": {
        "id": "yXrDddElZSCm",
        "colab_type": "code",
        "colab": {
          "base_uri": "https://localhost:8080/",
          "height": 34
        },
        "outputId": "861aa4e2-5c46-49d4-d8d1-8df087455a84"
      },
      "source": [
        "#verifica se um elemento pertence ao conjunto\n",
        "1 in s1"
      ],
      "execution_count": null,
      "outputs": [
        {
          "output_type": "execute_result",
          "data": {
            "text/plain": [
              "True"
            ]
          },
          "metadata": {
            "tags": []
          },
          "execution_count": 44
        }
      ]
    },
    {
      "cell_type": "code",
      "metadata": {
        "id": "qIbWTCNJZSF1",
        "colab_type": "code",
        "colab": {
          "base_uri": "https://localhost:8080/",
          "height": 34
        },
        "outputId": "e3736b7c-834e-4566-b7a4-cd50b634d9d3"
      },
      "source": [
        "10 in s1"
      ],
      "execution_count": null,
      "outputs": [
        {
          "output_type": "execute_result",
          "data": {
            "text/plain": [
              "False"
            ]
          },
          "metadata": {
            "tags": []
          },
          "execution_count": 45
        }
      ]
    },
    {
      "cell_type": "code",
      "metadata": {
        "id": "9r2sM9NUZy_d",
        "colab_type": "code",
        "colab": {}
      },
      "source": [
        "s2 = {3,5,10,11,12}   #cria um conjunto através do { }"
      ],
      "execution_count": null,
      "outputs": []
    },
    {
      "cell_type": "code",
      "metadata": {
        "id": "BMtXCQuxZ7Ac",
        "colab_type": "code",
        "colab": {
          "base_uri": "https://localhost:8080/",
          "height": 34
        },
        "outputId": "78fe4bba-69c5-4f25-821d-831ab456c912"
      },
      "source": [
        "#operaçõs com cojuntos\n",
        "s1 - s2     # diferença entre consjuntos"
      ],
      "execution_count": null,
      "outputs": [
        {
          "output_type": "execute_result",
          "data": {
            "text/plain": [
              "{1, 2, 4, 6, 7, 8}"
            ]
          },
          "metadata": {
            "tags": []
          },
          "execution_count": 50
        }
      ]
    },
    {
      "cell_type": "code",
      "metadata": {
        "id": "ING-YNNzZ7F9",
        "colab_type": "code",
        "colab": {
          "base_uri": "https://localhost:8080/",
          "height": 34
        },
        "outputId": "977a08f9-b227-4aef-dc12-fa4571527a77"
      },
      "source": [
        "s1 | s2    #união de conjuntos"
      ],
      "execution_count": null,
      "outputs": [
        {
          "output_type": "execute_result",
          "data": {
            "text/plain": [
              "{1, 2, 3, 4, 5, 6, 7, 8, 10, 11, 12}"
            ]
          },
          "metadata": {
            "tags": []
          },
          "execution_count": 51
        }
      ]
    },
    {
      "cell_type": "code",
      "metadata": {
        "id": "MbZnawZUZ7Lh",
        "colab_type": "code",
        "colab": {
          "base_uri": "https://localhost:8080/",
          "height": 34
        },
        "outputId": "af71d050-2e3e-4259-b9d5-85328d4909cb"
      },
      "source": [
        "s1 & s2  #interseçãod e conjuntos"
      ],
      "execution_count": null,
      "outputs": [
        {
          "output_type": "execute_result",
          "data": {
            "text/plain": [
              "{3, 5}"
            ]
          },
          "metadata": {
            "tags": []
          },
          "execution_count": 52
        }
      ]
    },
    {
      "cell_type": "code",
      "metadata": {
        "id": "X9dtj4r0aWXw",
        "colab_type": "code",
        "colab": {
          "base_uri": "https://localhost:8080/",
          "height": 34
        },
        "outputId": "5ff30f35-1a3e-41ea-c621-ca14edbefe2c"
      },
      "source": [
        "s1 ^ s2 # elementos que nao aparecem, ao mesmo tempo, em ambos "
      ],
      "execution_count": null,
      "outputs": [
        {
          "output_type": "execute_result",
          "data": {
            "text/plain": [
              "{1, 2, 4, 6, 7, 8, 10, 11, 12}"
            ]
          },
          "metadata": {
            "tags": []
          },
          "execution_count": 53
        }
      ]
    },
    {
      "cell_type": "code",
      "metadata": {
        "id": "Twil7Q8bdOqB",
        "colab_type": "code",
        "colab": {
          "base_uri": "https://localhost:8080/",
          "height": 34
        },
        "outputId": "c9a78f92-ba21-4d68-db26-79add5ddf332"
      },
      "source": [
        "d1 = {'azul': 3, 'branco': 4, 'verde': 6, 'preto': 1}\n",
        "d1"
      ],
      "execution_count": null,
      "outputs": [
        {
          "output_type": "execute_result",
          "data": {
            "text/plain": [
              "{'azul': 3, 'branco': 4, 'preto': 1, 'verde': 6}"
            ]
          },
          "metadata": {
            "tags": []
          },
          "execution_count": 55
        }
      ]
    },
    {
      "cell_type": "code",
      "metadata": {
        "id": "4fCqPYoldO3R",
        "colab_type": "code",
        "colab": {
          "base_uri": "https://localhost:8080/",
          "height": 34
        },
        "outputId": "eaad4e2f-fde8-4519-c9d6-d378e2393bfc"
      },
      "source": [
        "#recuperando itens de um dicionário\n",
        "d1.get('azul')"
      ],
      "execution_count": null,
      "outputs": [
        {
          "output_type": "execute_result",
          "data": {
            "text/plain": [
              "3"
            ]
          },
          "metadata": {
            "tags": []
          },
          "execution_count": 56
        }
      ]
    },
    {
      "cell_type": "code",
      "metadata": {
        "id": "IbOv1DTndPGV",
        "colab_type": "code",
        "colab": {
          "base_uri": "https://localhost:8080/",
          "height": 34
        },
        "outputId": "362242c5-f371-4191-cd4e-41109f60861c"
      },
      "source": [
        "d1['azul']"
      ],
      "execution_count": null,
      "outputs": [
        {
          "output_type": "execute_result",
          "data": {
            "text/plain": [
              "3"
            ]
          },
          "metadata": {
            "tags": []
          },
          "execution_count": 57
        }
      ]
    },
    {
      "cell_type": "code",
      "metadata": {
        "id": "N1tDmS5YdPVt",
        "colab_type": "code",
        "colab": {
          "base_uri": "https://localhost:8080/",
          "height": 34
        },
        "outputId": "bf9c8bbf-7b89-4139-eaa2-2ad8c1214767"
      },
      "source": [
        "# adicionando valores\n",
        "d1['amarelo']=4\n",
        "d1"
      ],
      "execution_count": null,
      "outputs": [
        {
          "output_type": "execute_result",
          "data": {
            "text/plain": [
              "{'amarelo': 4, 'azul': 3, 'branco': 4, 'preto': 1, 'verde': 6}"
            ]
          },
          "metadata": {
            "tags": []
          },
          "execution_count": 59
        }
      ]
    },
    {
      "cell_type": "code",
      "metadata": {
        "id": "GE13jQaxd_Be",
        "colab_type": "code",
        "colab": {
          "base_uri": "https://localhost:8080/",
          "height": 34
        },
        "outputId": "ed1839ef-1cfd-4701-c543-e578d9af8242"
      },
      "source": [
        "d1.keys()   #recuperando as chaves"
      ],
      "execution_count": null,
      "outputs": [
        {
          "output_type": "execute_result",
          "data": {
            "text/plain": [
              "dict_keys(['azul', 'branco', 'verde', 'preto', 'amarelo'])"
            ]
          },
          "metadata": {
            "tags": []
          },
          "execution_count": 60
        }
      ]
    },
    {
      "cell_type": "code",
      "metadata": {
        "id": "5zsNrf2Ud_Hs",
        "colab_type": "code",
        "colab": {
          "base_uri": "https://localhost:8080/",
          "height": 34
        },
        "outputId": "10742bd2-e6d1-438a-b973-5a2372d179e8"
      },
      "source": [
        "d1.values()   # recuperando os valores "
      ],
      "execution_count": null,
      "outputs": [
        {
          "output_type": "execute_result",
          "data": {
            "text/plain": [
              "dict_values([3, 4, 6, 1, 4])"
            ]
          },
          "metadata": {
            "tags": []
          },
          "execution_count": 61
        }
      ]
    },
    {
      "cell_type": "code",
      "metadata": {
        "id": "d5rhYlaIeQD1",
        "colab_type": "code",
        "colab": {
          "base_uri": "https://localhost:8080/",
          "height": 34
        },
        "outputId": "73f73e99-a84a-464a-cc96-0e2174812edf"
      },
      "source": [
        "#cria dicionário utilizando o método dict()\n",
        "d2 = dict({'laranja': 47,'roxo': 21,'azul':58})\n",
        "d2"
      ],
      "execution_count": null,
      "outputs": [
        {
          "output_type": "execute_result",
          "data": {
            "text/plain": [
              "{'azul': 58, 'laranja': 47, 'roxo': 21}"
            ]
          },
          "metadata": {
            "tags": []
          },
          "execution_count": 65
        }
      ]
    },
    {
      "cell_type": "code",
      "metadata": {
        "id": "eC8MomTHehaY",
        "colab_type": "code",
        "colab": {
          "base_uri": "https://localhost:8080/",
          "height": 141
        },
        "outputId": "bef99f56-1ab7-4776-a705-b5494454ef55"
      },
      "source": [
        "#atualizando o dicionário d1 utilizando o d2\n",
        "d1.update(d2)\n",
        "d1"
      ],
      "execution_count": null,
      "outputs": [
        {
          "output_type": "execute_result",
          "data": {
            "text/plain": [
              "{'amarelo': 4,\n",
              " 'azul': 58,\n",
              " 'branco': 4,\n",
              " 'laranja': 47,\n",
              " 'preto': 1,\n",
              " 'roxo': 21,\n",
              " 'verde': 6}"
            ]
          },
          "metadata": {
            "tags": []
          },
          "execution_count": 66
        }
      ]
    },
    {
      "cell_type": "code",
      "metadata": {
        "id": "AMO1K171ehjN",
        "colab_type": "code",
        "colab": {
          "base_uri": "https://localhost:8080/",
          "height": 34
        },
        "outputId": "5bc4fc5b-e080-4bf0-8357-70336409df36"
      },
      "source": [
        "#criando tuplas\n",
        "t1= (1,)\n",
        "t1"
      ],
      "execution_count": null,
      "outputs": [
        {
          "output_type": "execute_result",
          "data": {
            "text/plain": [
              "(1,)"
            ]
          },
          "metadata": {
            "tags": []
          },
          "execution_count": 67
        }
      ]
    },
    {
      "cell_type": "code",
      "metadata": {
        "id": "LmOSyTGClEWQ",
        "colab_type": "code",
        "colab": {
          "base_uri": "https://localhost:8080/",
          "height": 34
        },
        "outputId": "c315bdad-d317-4bbc-80d1-affc729575e7"
      },
      "source": [
        "#identificação da tupla\n",
        "id(t1)"
      ],
      "execution_count": null,
      "outputs": [
        {
          "output_type": "execute_result",
          "data": {
            "text/plain": [
              "140097858444088"
            ]
          },
          "metadata": {
            "tags": []
          },
          "execution_count": 68
        }
      ]
    },
    {
      "cell_type": "code",
      "metadata": {
        "id": "xsPRKJRylJxO",
        "colab_type": "code",
        "colab": {
          "base_uri": "https://localhost:8080/",
          "height": 34
        },
        "outputId": "dd2f6d98-fcb7-4038-d688-0c8641c090aa"
      },
      "source": [
        "# modificar o conteúdo da tupla, modifica o endereço\n",
        "t1 = t1 + (2,3,4,5,6)\n",
        "t1"
      ],
      "execution_count": null,
      "outputs": [
        {
          "output_type": "execute_result",
          "data": {
            "text/plain": [
              "(1, 2, 3, 4, 5, 6)"
            ]
          },
          "metadata": {
            "tags": []
          },
          "execution_count": 69
        }
      ]
    },
    {
      "cell_type": "code",
      "metadata": {
        "id": "6Xqi3Qf1lVcw",
        "colab_type": "code",
        "colab": {
          "base_uri": "https://localhost:8080/",
          "height": 34
        },
        "outputId": "59663191-9e8a-494d-d280-db5910a48ebe"
      },
      "source": [
        "id(t1)"
      ],
      "execution_count": null,
      "outputs": [
        {
          "output_type": "execute_result",
          "data": {
            "text/plain": [
              "140097840249928"
            ]
          },
          "metadata": {
            "tags": []
          },
          "execution_count": 70
        }
      ]
    },
    {
      "cell_type": "code",
      "metadata": {
        "id": "oEdFmJeklVjp",
        "colab_type": "code",
        "colab": {
          "base_uri": "https://localhost:8080/",
          "height": 167
        },
        "outputId": "f35253a0-05b3-4361-fc8e-111bcbd4b016"
      },
      "source": [
        "# tuplas são imutáveis \n",
        "t1[2]= 1000"
      ],
      "execution_count": null,
      "outputs": [
        {
          "output_type": "error",
          "ename": "TypeError",
          "evalue": "ignored",
          "traceback": [
            "\u001b[0;31m---------------------------------------------------------------------------\u001b[0m",
            "\u001b[0;31mTypeError\u001b[0m                                 Traceback (most recent call last)",
            "\u001b[0;32m<ipython-input-71-a5f2253b0903>\u001b[0m in \u001b[0;36m<module>\u001b[0;34m()\u001b[0m\n\u001b[0;32m----> 1\u001b[0;31m \u001b[0mt1\u001b[0m\u001b[0;34m[\u001b[0m\u001b[0;36m2\u001b[0m\u001b[0;34m]\u001b[0m\u001b[0;34m=\u001b[0m \u001b[0;36m1000\u001b[0m\u001b[0;34m\u001b[0m\u001b[0;34m\u001b[0m\u001b[0m\n\u001b[0m",
            "\u001b[0;31mTypeError\u001b[0m: 'tuple' object does not support item assignment"
          ]
        }
      ]
    },
    {
      "cell_type": "code",
      "metadata": {
        "id": "LbcyYzvAlVpu",
        "colab_type": "code",
        "colab": {
          "base_uri": "https://localhost:8080/",
          "height": 34
        },
        "outputId": "f30e9009-00ad-47b6-cbcd-39208ace3579"
      },
      "source": [
        "tupla = (['IGTI','Disciplina'],['Aplicações','Deep Learning'])\n",
        "tupla[0]"
      ],
      "execution_count": null,
      "outputs": [
        {
          "output_type": "execute_result",
          "data": {
            "text/plain": [
              "['IGTI', 'Disciplina']"
            ]
          },
          "metadata": {
            "tags": []
          },
          "execution_count": 72
        }
      ]
    },
    {
      "cell_type": "code",
      "metadata": {
        "id": "oKV4lwJtl3Wj",
        "colab_type": "code",
        "colab": {
          "base_uri": "https://localhost:8080/",
          "height": 34
        },
        "outputId": "e54a00b7-e7c6-4dd2-c44b-925401d3589a"
      },
      "source": [
        "l1,l2 = tupla\n",
        "print(l1,l2)"
      ],
      "execution_count": null,
      "outputs": [
        {
          "output_type": "stream",
          "text": [
            "['IGTI', 'Disciplina'] ['Aplicações', 'Deep Learning']\n"
          ],
          "name": "stdout"
        }
      ]
    },
    {
      "cell_type": "code",
      "metadata": {
        "id": "m5yg6GitpF3j",
        "colab_type": "code",
        "colab": {
          "base_uri": "https://localhost:8080/",
          "height": 34
        },
        "outputId": "e1fb4db9-fa63-482d-ca91-f859a47be855"
      },
      "source": [
        "variavel = 'azul'\n",
        "if variavel =='azul':\n",
        "  print(\"Variável é AZUL\")"
      ],
      "execution_count": null,
      "outputs": [
        {
          "output_type": "stream",
          "text": [
            "Variável é AZUL\n"
          ],
          "name": "stdout"
        }
      ]
    },
    {
      "cell_type": "code",
      "metadata": {
        "id": "yrDbzcuxpF9W",
        "colab_type": "code",
        "colab": {
          "base_uri": "https://localhost:8080/",
          "height": 34
        },
        "outputId": "339b58a6-8bc6-4e2d-d42d-e8baa03cf853"
      },
      "source": [
        "variavel = 'branco'\n",
        "if variavel =='azul':\n",
        "  print(\"Variável é AZUL\")\n",
        "elif variavel == 'branco':\n",
        "  print('Variável é BRANCO')"
      ],
      "execution_count": null,
      "outputs": [
        {
          "output_type": "stream",
          "text": [
            "Variável é BRANCO\n"
          ],
          "name": "stdout"
        }
      ]
    },
    {
      "cell_type": "code",
      "metadata": {
        "id": "M7cmKZWvpGDZ",
        "colab_type": "code",
        "colab": {
          "base_uri": "https://localhost:8080/",
          "height": 34
        },
        "outputId": "a98fee12-00c0-4d38-a284-003acf192807"
      },
      "source": [
        "variavel = 'verde'\n",
        "if variavel =='azul':\n",
        "  print(\"Variável é AZUL\")\n",
        "elif variavel == 'branco':\n",
        "  print('Variável é BRANCO')\n",
        "else:\n",
        "  print('Variável é VERDE')"
      ],
      "execution_count": null,
      "outputs": [
        {
          "output_type": "stream",
          "text": [
            "Variável é VERDE\n"
          ],
          "name": "stdout"
        }
      ]
    },
    {
      "cell_type": "code",
      "metadata": {
        "id": "jT-sLCqppGKP",
        "colab_type": "code",
        "colab": {
          "base_uri": "https://localhost:8080/",
          "height": 105
        },
        "outputId": "2e8b5be5-29e5-42bf-b642-20872ba3603a"
      },
      "source": [
        "#ilustrando loops\n",
        "sequencia = range(0,5)\n",
        "for num in sequencia:\n",
        "  print(num)"
      ],
      "execution_count": null,
      "outputs": [
        {
          "output_type": "stream",
          "text": [
            "0\n",
            "1\n",
            "2\n",
            "3\n",
            "4\n"
          ],
          "name": "stdout"
        }
      ]
    },
    {
      "cell_type": "code",
      "metadata": {
        "id": "BHA0gskUpGPe",
        "colab_type": "code",
        "colab": {
          "base_uri": "https://localhost:8080/",
          "height": 34
        },
        "outputId": "fdc0bee5-bc9b-49ef-ed92-ee0c05be67d4"
      },
      "source": [
        "sum = 0\n",
        "for num in sequencia:\n",
        "  sum+= num\n",
        "print(sum)"
      ],
      "execution_count": null,
      "outputs": [
        {
          "output_type": "stream",
          "text": [
            "10\n"
          ],
          "name": "stdout"
        }
      ]
    },
    {
      "cell_type": "code",
      "metadata": {
        "id": "nm2xxnKLweXE",
        "colab_type": "code",
        "colab": {
          "base_uri": "https://localhost:8080/",
          "height": 123
        },
        "outputId": "338bd6f4-5aa7-4259-ec56-f7ed2822d633"
      },
      "source": [
        "sequencia = range(0,5)\n",
        "for num in sequencia:\n",
        "  print(num)\n",
        "else:\n",
        "  print('loop terminou normalmente')"
      ],
      "execution_count": null,
      "outputs": [
        {
          "output_type": "stream",
          "text": [
            "0\n",
            "1\n",
            "2\n",
            "3\n",
            "4\n",
            "loop terminou normalmente\n"
          ],
          "name": "stdout"
        }
      ]
    },
    {
      "cell_type": "code",
      "metadata": {
        "id": "i2pC9yUwwrPm",
        "colab_type": "code",
        "colab": {
          "base_uri": "https://localhost:8080/",
          "height": 70
        },
        "outputId": "57679f1f-8d87-47f3-9990-876a943ced6b"
      },
      "source": [
        "sequencia = range(0,5)\n",
        "for num in sequencia:\n",
        "  if num <3:\n",
        "    print(num)\n",
        "  else:\n",
        "    break\n",
        "else:\n",
        "  print('loop terminou normalmente')"
      ],
      "execution_count": null,
      "outputs": [
        {
          "output_type": "stream",
          "text": [
            "0\n",
            "1\n",
            "2\n"
          ],
          "name": "stdout"
        }
      ]
    },
    {
      "cell_type": "code",
      "metadata": {
        "id": "gMef6GOhxO54",
        "colab_type": "code",
        "colab": {
          "base_uri": "https://localhost:8080/",
          "height": 105
        },
        "outputId": "343aa982-72b6-4201-cb38-b6ce08a56c33"
      },
      "source": [
        "#ilustrando loop while\n",
        "num = 5\n",
        "while num >0:\n",
        "  print(num)\n",
        "  num -=1       #necessário para evitar o loop infinito"
      ],
      "execution_count": null,
      "outputs": [
        {
          "output_type": "stream",
          "text": [
            "5\n",
            "4\n",
            "3\n",
            "2\n",
            "1\n"
          ],
          "name": "stdout"
        }
      ]
    },
    {
      "cell_type": "code",
      "metadata": {
        "id": "TpfD3z1UxPAP",
        "colab_type": "code",
        "colab": {
          "base_uri": "https://localhost:8080/",
          "height": 34
        },
        "outputId": "38104371-65c6-41cc-85da-7dd48f3f7286"
      },
      "source": [
        "#exemplo de uma função que retorna o quadrado de um número\n",
        "def retornaQuadrado(numero):\n",
        "  return numero*numero\n",
        "\n",
        "numero=5\n",
        "print(\"O quadrado de {} é: {}\".format(numero,retornaQuadrado(numero)))"
      ],
      "execution_count": null,
      "outputs": [
        {
          "output_type": "stream",
          "text": [
            "O quadrado de 5 é: 25\n"
          ],
          "name": "stdout"
        }
      ]
    },
    {
      "cell_type": "code",
      "metadata": {
        "id": "2OLsYWPNcEPD",
        "colab_type": "code",
        "colab": {}
      },
      "source": [
        ""
      ],
      "execution_count": null,
      "outputs": []
    },
    {
      "cell_type": "markdown",
      "metadata": {
        "id": "QUYLOuAPUszd",
        "colab_type": "text"
      },
      "source": [
        "# **Conteúdo Extra - não é abordado no fundamentos de Python**"
      ]
    },
    {
      "cell_type": "markdown",
      "metadata": {
        "id": "Eyx_5ZvPcEqk",
        "colab_type": "text"
      },
      "source": [
        "---------------------**Análise de sentimento com Python** ----------------------"
      ]
    },
    {
      "cell_type": "code",
      "metadata": {
        "id": "Zxswp_7dxPI8",
        "colab_type": "code",
        "colab": {
          "base_uri": "https://localhost:8080/",
          "height": 87
        },
        "outputId": "456ff8aa-1643-4e10-a298-b7e9fe92b1f5"
      },
      "source": [
        "#gerando as stopwords\n",
        "import nltk\n",
        "import numpy as np\n",
        "nltk.download('stopwords')\n",
        "nltk.download('punkt')\n",
        "from pprint import pprint\n",
        "\n"
      ],
      "execution_count": null,
      "outputs": [
        {
          "output_type": "stream",
          "text": [
            "[nltk_data] Downloading package stopwords to /root/nltk_data...\n",
            "[nltk_data]   Package stopwords is already up-to-date!\n",
            "[nltk_data] Downloading package punkt to /root/nltk_data...\n",
            "[nltk_data]   Package punkt is already up-to-date!\n"
          ],
          "name": "stdout"
        }
      ]
    },
    {
      "cell_type": "code",
      "metadata": {
        "id": "ooiskYxFNCZL",
        "colab_type": "code",
        "colab": {
          "base_uri": "https://localhost:8080/",
          "height": 443
        },
        "outputId": "09b111b7-e5b8-4e6a-8af7-eef80ce43302"
      },
      "source": [
        "stopWordPortugues = nltk.corpus.stopwords.words('portuguese')\n",
        "print(np.transpose(stopWordPortugues))"
      ],
      "execution_count": null,
      "outputs": [
        {
          "output_type": "stream",
          "text": [
            "['de' 'a' 'o' 'que' 'e' 'do' 'da' 'em' 'um' 'para' 'com' 'não' 'uma' 'os'\n",
            " 'no' 'se' 'na' 'por' 'mais' 'as' 'dos' 'como' 'mas' 'ao' 'ele' 'das' 'à'\n",
            " 'seu' 'sua' 'ou' 'quando' 'muito' 'nos' 'já' 'eu' 'também' 'só' 'pelo'\n",
            " 'pela' 'até' 'isso' 'ela' 'entre' 'depois' 'sem' 'mesmo' 'aos' 'seus'\n",
            " 'quem' 'nas' 'me' 'esse' 'eles' 'você' 'essa' 'num' 'nem' 'suas' 'meu'\n",
            " 'às' 'minha' 'numa' 'pelos' 'elas' 'qual' 'nós' 'lhe' 'deles' 'essas'\n",
            " 'esses' 'pelas' 'este' 'dele' 'tu' 'te' 'vocês' 'vos' 'lhes' 'meus'\n",
            " 'minhas' 'teu' 'tua' 'teus' 'tuas' 'nosso' 'nossa' 'nossos' 'nossas'\n",
            " 'dela' 'delas' 'esta' 'estes' 'estas' 'aquele' 'aquela' 'aqueles'\n",
            " 'aquelas' 'isto' 'aquilo' 'estou' 'está' 'estamos' 'estão' 'estive'\n",
            " 'esteve' 'estivemos' 'estiveram' 'estava' 'estávamos' 'estavam'\n",
            " 'estivera' 'estivéramos' 'esteja' 'estejamos' 'estejam' 'estivesse'\n",
            " 'estivéssemos' 'estivessem' 'estiver' 'estivermos' 'estiverem' 'hei' 'há'\n",
            " 'havemos' 'hão' 'houve' 'houvemos' 'houveram' 'houvera' 'houvéramos'\n",
            " 'haja' 'hajamos' 'hajam' 'houvesse' 'houvéssemos' 'houvessem' 'houver'\n",
            " 'houvermos' 'houverem' 'houverei' 'houverá' 'houveremos' 'houverão'\n",
            " 'houveria' 'houveríamos' 'houveriam' 'sou' 'somos' 'são' 'era' 'éramos'\n",
            " 'eram' 'fui' 'foi' 'fomos' 'foram' 'fora' 'fôramos' 'seja' 'sejamos'\n",
            " 'sejam' 'fosse' 'fôssemos' 'fossem' 'for' 'formos' 'forem' 'serei' 'será'\n",
            " 'seremos' 'serão' 'seria' 'seríamos' 'seriam' 'tenho' 'tem' 'temos' 'tém'\n",
            " 'tinha' 'tínhamos' 'tinham' 'tive' 'teve' 'tivemos' 'tiveram' 'tivera'\n",
            " 'tivéramos' 'tenha' 'tenhamos' 'tenham' 'tivesse' 'tivéssemos' 'tivessem'\n",
            " 'tiver' 'tivermos' 'tiverem' 'terei' 'terá' 'teremos' 'terão' 'teria'\n",
            " 'teríamos' 'teriam']\n"
          ],
          "name": "stdout"
        }
      ]
    },
    {
      "cell_type": "code",
      "metadata": {
        "id": "X0XjQ38tf3FO",
        "colab_type": "code",
        "colab": {
          "base_uri": "https://localhost:8080/",
          "height": 70
        },
        "outputId": "0fe5b6ff-d948-4627-ad9a-f287c6aa20e7"
      },
      "source": [
        "#gerando os tokens de sentenças\n",
        "sample_text=\"\"\" O menino gosta de jogar futebol aos finais de semana. \n",
        "Ele gosta de jogar com seus amigos Marcos e João, mas não gosta de brincar\n",
        "com a irmã Marcela\"\"\"\n",
        "tokenizacao_sentencas=nltk.sent_tokenize\n",
        "sample_sentence = tokenizacao_sentencas(text=sample_text)\n",
        "pprint(sample_sentence)"
      ],
      "execution_count": null,
      "outputs": [
        {
          "output_type": "stream",
          "text": [
            "[' O menino gosta de jogar futebol aos finais de semana.',\n",
            " 'Ele gosta de jogar com seus amigos Marcos e João, mas não gosta de brincar\\n'\n",
            " 'com a irmã Marcela']\n"
          ],
          "name": "stdout"
        }
      ]
    },
    {
      "cell_type": "code",
      "metadata": {
        "id": "VZlivgR3g6EF",
        "colab_type": "code",
        "colab": {
          "base_uri": "https://localhost:8080/",
          "height": 212
        },
        "outputId": "881a03e0-49cf-4f08-b437-59e41ea5e0b1"
      },
      "source": [
        "#tokenização de palavras\n",
        "sample_sentence='O menino gosta de jogar futebol aos finais de semana.'\n",
        "tokenizacao_palavras=nltk.word_tokenize\n",
        "sample_words = tokenizacao_palavras(text=sample_sentence)\n",
        "pprint(sample_words)"
      ],
      "execution_count": null,
      "outputs": [
        {
          "output_type": "stream",
          "text": [
            "['O',\n",
            " 'menino',\n",
            " 'gosta',\n",
            " 'de',\n",
            " 'jogar',\n",
            " 'futebol',\n",
            " 'aos',\n",
            " 'finais',\n",
            " 'de',\n",
            " 'semana',\n",
            " '.']\n"
          ],
          "name": "stdout"
        }
      ]
    },
    {
      "cell_type": "code",
      "metadata": {
        "id": "4GhT0e4qNX0u",
        "colab_type": "code",
        "colab": {
          "base_uri": "https://localhost:8080/",
          "height": 70
        },
        "outputId": "e4a2c7f0-8fdb-4506-e43e-cba48b10e67a"
      },
      "source": [
        "#gerando as amostras de stem\n",
        "from nltk.stem import PorterStemmer\n",
        "from nltk.stem import RSLPStemmer\n",
        "nltk.download('rslp')"
      ],
      "execution_count": null,
      "outputs": [
        {
          "output_type": "stream",
          "text": [
            "[nltk_data] Downloading package rslp to /root/nltk_data...\n",
            "[nltk_data]   Unzipping stemmers/rslp.zip.\n"
          ],
          "name": "stdout"
        },
        {
          "output_type": "execute_result",
          "data": {
            "text/plain": [
              "True"
            ]
          },
          "metadata": {
            "tags": []
          },
          "execution_count": 9
        }
      ]
    },
    {
      "cell_type": "code",
      "metadata": {
        "id": "XYW4BWysQiyx",
        "colab_type": "code",
        "colab": {
          "base_uri": "https://localhost:8080/",
          "height": 87
        },
        "outputId": "472d2911-816a-4b32-a80f-b32993b42e85"
      },
      "source": [
        "#gerado stem através do nltk\n",
        "ps=PorterStemmer()\n",
        "stemmer =RSLPStemmer()\n",
        "\n",
        "print(ps.stem('jumping'))\n",
        "print(stemmer.stem('amoroso')) \n",
        "print(stemmer.stem('amorosa'))\n",
        "print(stemmer.stem('amados'))\n"
      ],
      "execution_count": null,
      "outputs": [
        {
          "output_type": "stream",
          "text": [
            "jump\n",
            "amor\n",
            "amor\n",
            "am\n"
          ],
          "name": "stdout"
        }
      ]
    },
    {
      "cell_type": "code",
      "metadata": {
        "id": "BJDrwlnPQ0Qs",
        "colab_type": "code",
        "colab": {
          "base_uri": "https://localhost:8080/",
          "height": 72
        },
        "outputId": "35f06df4-5795-4816-acc9-e47439c8d340"
      },
      "source": [
        "from nltk.stem import SnowballStemmer   # mais indicado para a lingua portuguesa\n",
        "\n",
        "print('Linguagens suportadas %s',SnowballStemmer.languages)\n"
      ],
      "execution_count": null,
      "outputs": [
        {
          "output_type": "stream",
          "text": [
            "Linguagens suportadas %s ('arabic', 'danish', 'dutch', 'english', 'finnish', 'french', 'german', 'hungarian', 'italian', 'norwegian', 'porter', 'portuguese', 'romanian', 'russian', 'spanish', 'swedish')\n"
          ],
          "name": "stdout"
        },
        {
          "output_type": "execute_result",
          "data": {
            "text/plain": [
              "'casinh'"
            ]
          },
          "metadata": {
            "tags": []
          },
          "execution_count": 11
        }
      ]
    },
    {
      "cell_type": "code",
      "metadata": {
        "id": "BZNfCX1KQ5P0",
        "colab_type": "code",
        "colab": {
          "base_uri": "https://localhost:8080/",
          "height": 70
        },
        "outputId": "01f57ff0-5a3b-4aa6-d186-df74c2b0711e"
      },
      "source": [
        "ss = SnowballStemmer(\"portuguese\")\n",
        "print(ss.stem('casado'))\n",
        "print(ss.stem('casarão'))\n",
        "print(ss.stem('casa'))"
      ],
      "execution_count": null,
      "outputs": [
        {
          "output_type": "stream",
          "text": [
            "cas\n",
            "cas\n",
            "cas\n"
          ],
          "name": "stdout"
        }
      ]
    },
    {
      "cell_type": "code",
      "metadata": {
        "id": "fJRhUCR2S3a1",
        "colab_type": "code",
        "colab": {
          "base_uri": "https://localhost:8080/",
          "height": 392
        },
        "outputId": "5e3cf0b2-2c24-434d-fdfa-b5347770d752"
      },
      "source": [
        "#instalando os pacotes necessários no google colab\n",
        "!pip3 install spacy \n",
        "!python -m spacy download pt_core_news_sm"
      ],
      "execution_count": null,
      "outputs": [
        {
          "output_type": "stream",
          "text": [
            "Requirement already satisfied: spacy in /usr/local/lib/python3.6/dist-packages (2.1.4)\n",
            "Requirement already satisfied: cymem<2.1.0,>=2.0.2 in /usr/local/lib/python3.6/dist-packages (from spacy) (2.0.2)\n",
            "Requirement already satisfied: numpy>=1.15.0 in /usr/local/lib/python3.6/dist-packages (from spacy) (1.16.4)\n",
            "Requirement already satisfied: jsonschema<3.1.0,>=2.6.0 in /usr/local/lib/python3.6/dist-packages (from spacy) (2.6.0)\n",
            "Requirement already satisfied: plac<1.0.0,>=0.9.6 in /usr/local/lib/python3.6/dist-packages (from spacy) (0.9.6)\n",
            "Requirement already satisfied: blis<0.3.0,>=0.2.2 in /usr/local/lib/python3.6/dist-packages (from spacy) (0.2.4)\n",
            "Requirement already satisfied: srsly<1.1.0,>=0.0.5 in /usr/local/lib/python3.6/dist-packages (from spacy) (0.0.6)\n",
            "Requirement already satisfied: thinc<7.1.0,>=7.0.2 in /usr/local/lib/python3.6/dist-packages (from spacy) (7.0.4)\n",
            "Requirement already satisfied: wasabi<1.1.0,>=0.2.0 in /usr/local/lib/python3.6/dist-packages (from spacy) (0.2.2)\n",
            "Requirement already satisfied: murmurhash<1.1.0,>=0.28.0 in /usr/local/lib/python3.6/dist-packages (from spacy) (1.0.2)\n",
            "Requirement already satisfied: preshed<2.1.0,>=2.0.1 in /usr/local/lib/python3.6/dist-packages (from spacy) (2.0.1)\n",
            "Requirement already satisfied: requests<3.0.0,>=2.13.0 in /usr/local/lib/python3.6/dist-packages (from spacy) (2.21.0)\n",
            "Requirement already satisfied: tqdm<5.0.0,>=4.10.0 in /usr/local/lib/python3.6/dist-packages (from thinc<7.1.0,>=7.0.2->spacy) (4.28.1)\n",
            "Requirement already satisfied: certifi>=2017.4.17 in /usr/local/lib/python3.6/dist-packages (from requests<3.0.0,>=2.13.0->spacy) (2019.3.9)\n",
            "Requirement already satisfied: chardet<3.1.0,>=3.0.2 in /usr/local/lib/python3.6/dist-packages (from requests<3.0.0,>=2.13.0->spacy) (3.0.4)\n",
            "Requirement already satisfied: idna<2.9,>=2.5 in /usr/local/lib/python3.6/dist-packages (from requests<3.0.0,>=2.13.0->spacy) (2.8)\n",
            "Requirement already satisfied: urllib3<1.25,>=1.21.1 in /usr/local/lib/python3.6/dist-packages (from requests<3.0.0,>=2.13.0->spacy) (1.24.3)\n",
            "Requirement already satisfied: pt_core_news_sm==2.1.0 from https://github.com/explosion/spacy-models/releases/download/pt_core_news_sm-2.1.0/pt_core_news_sm-2.1.0.tar.gz#egg=pt_core_news_sm==2.1.0 in /usr/local/lib/python3.6/dist-packages (2.1.0)\n",
            "\u001b[38;5;2m✔ Download and installation successful\u001b[0m\n",
            "You can now load the model via spacy.load('pt_core_news_sm')\n"
          ],
          "name": "stdout"
        }
      ]
    },
    {
      "cell_type": "code",
      "metadata": {
        "id": "ED0WTo-AUPOl",
        "colab_type": "code",
        "colab": {
          "base_uri": "https://localhost:8080/",
          "height": 87
        },
        "outputId": "4e9bd014-754b-4195-897f-868938acc486"
      },
      "source": [
        "!python -m spacy link pt_core_news_sm pt  #realizado o link das bibliotecas para funcionar corretamente o idioma português"
      ],
      "execution_count": null,
      "outputs": [
        {
          "output_type": "stream",
          "text": [
            "\u001b[38;5;2m✔ Linking successful\u001b[0m\n",
            "/usr/local/lib/python3.6/dist-packages/pt_core_news_sm -->\n",
            "/usr/local/lib/python3.6/dist-packages/spacy/data/pt\n",
            "You can now load the model via spacy.load('pt')\n"
          ],
          "name": "stdout"
        }
      ]
    },
    {
      "cell_type": "code",
      "metadata": {
        "id": "e6WxeogXVp6s",
        "colab_type": "code",
        "colab": {}
      },
      "source": [
        "#bibliotecas que possuem um melhor desempenho para a analise do idioma português\n",
        "import spacy\n",
        "import spacy.cli\n",
        "spacy.cli.download(\"pt_core_news_sm\")"
      ],
      "execution_count": null,
      "outputs": []
    },
    {
      "cell_type": "code",
      "metadata": {
        "id": "ZmZoHfncU6ra",
        "colab_type": "code",
        "colab": {}
      },
      "source": [
        "nlp = spacy.load(\"pt\")   "
      ],
      "execution_count": null,
      "outputs": []
    },
    {
      "cell_type": "code",
      "metadata": {
        "id": "FY69vhswWyo8",
        "colab_type": "code",
        "colab": {
          "base_uri": "https://localhost:8080/",
          "height": 301
        },
        "outputId": "7868e924-df7c-4f2e-ea72-dc6a03a520cd"
      },
      "source": [
        "#processo de lematização em uma sentença\n",
        "import spacy\n",
        "from spacy.lang.pt.examples import sentences \n",
        "\n",
        "nlp = spacy.load('pt')      # carrega o idioma português\n",
        "doc = nlp(sentences[0])     #carrega a primeira sentença existente no corpo de exemplo\n",
        "print(doc)                  #imprime a sentença completa\n",
        "print(\"Token\\tPOS\\tLemma\")\n",
        "for token in doc:           #encontra os token, POS (parts os speech).\n",
        "    print(token.text, token.pos_,token.lemma_)\n"
      ],
      "execution_count": null,
      "outputs": [
        {
          "output_type": "stream",
          "text": [
            "Apple está querendo comprar uma startup do Reino Unido por 100 milhões de dólares\n",
            "Token\tPOS\tLemma\n",
            "Apple PROPN Apple\n",
            "está AUX estar\n",
            "querendo VERB querer\n",
            "comprar VERB comprar\n",
            "uma DET umar\n",
            "startup NOUN startup\n",
            "do DET do\n",
            "Reino PROPN Reino\n",
            "Unido PROPN Unido\n",
            "por ADP por\n",
            "100 NUM 100\n",
            "milhões SYM milhão\n",
            "de ADP de\n",
            "dólares NOUN dólar\n"
          ],
          "name": "stdout"
        }
      ]
    },
    {
      "cell_type": "markdown",
      "metadata": {
        "id": "L6tPh5PkHkrb",
        "colab_type": "text"
      },
      "source": [
        ""
      ]
    },
    {
      "cell_type": "code",
      "metadata": {
        "id": "eG3DYZ4Rq2k0",
        "colab_type": "code",
        "colab": {
          "base_uri": "https://localhost:8080/",
          "height": 34
        },
        "outputId": "c45548ca-15f3-4c18-d4e9-5d4e9ad834db"
      },
      "source": [
        "token.text\n"
      ],
      "execution_count": null,
      "outputs": [
        {
          "output_type": "execute_result",
          "data": {
            "text/plain": [
              "'dólares'"
            ]
          },
          "metadata": {
            "tags": []
          },
          "execution_count": 69
        }
      ]
    },
    {
      "cell_type": "markdown",
      "metadata": {
        "id": "OZV1Kn5Ao2fF",
        "colab_type": "text"
      },
      "source": [
        "** ---------------------**Exemplo de criação do BoW (bag of words) ---------------------**** **\n"
      ]
    },
    {
      "cell_type": "code",
      "metadata": {
        "id": "_idIhbTZqNsV",
        "colab_type": "code",
        "colab": {}
      },
      "source": [
        "sentenca=\"O IGTI oferece especializacao em Deep Learning. Deep Learning e utilizado em diversas aplicacoes. As aplicacoes de deep learning sao estudadas nesta especializacao\"\n"
      ],
      "execution_count": null,
      "outputs": []
    },
    {
      "cell_type": "code",
      "metadata": {
        "id": "jgmZh9ItwH24",
        "colab_type": "code",
        "colab": {}
      },
      "source": [
        "#coloca toda a sentença em lowercase\n",
        "sentenca=sentenca.lower()"
      ],
      "execution_count": null,
      "outputs": []
    },
    {
      "cell_type": "code",
      "metadata": {
        "id": "f3RxA_XMun_b",
        "colab_type": "code",
        "colab": {
          "base_uri": "https://localhost:8080/",
          "height": 54
        },
        "outputId": "c6ec14ae-e1cc-41ce-d048-60ead7b35f26"
      },
      "source": [
        "print(sentenca)"
      ],
      "execution_count": null,
      "outputs": [
        {
          "output_type": "stream",
          "text": [
            "o igti oferece especializacao em deep learning. deep learning e utilizado em diversas aplicacoes. as aplicacoes de deep learning sao estudadas nesta especializacao\n"
          ],
          "name": "stdout"
        }
      ]
    },
    {
      "cell_type": "code",
      "metadata": {
        "id": "8Ck6OBZzu0p9",
        "colab_type": "code",
        "colab": {
          "base_uri": "https://localhost:8080/",
          "height": 70
        },
        "outputId": "19adfc6e-ad09-4aac-9df8-9347c162ac3e"
      },
      "source": [
        "#tokenização de sentencas\n",
        "tokenizacao_sentencas=nltk.sent_tokenize\n",
        "sample_sentence = tokenizacao_sentencas(text=sentenca)\n",
        "pprint(sample_sentence)\n"
      ],
      "execution_count": null,
      "outputs": [
        {
          "output_type": "stream",
          "text": [
            "['o igti oferece especializacao em deep learning.',\n",
            " 'deep learning e utilizado em diversas aplicacoes.',\n",
            " 'as aplicacoes de deep learning sao estudadas nesta especializacao']\n"
          ],
          "name": "stdout"
        }
      ]
    },
    {
      "cell_type": "code",
      "metadata": {
        "id": "aJx79fF7vmD_",
        "colab_type": "code",
        "colab": {
          "base_uri": "https://localhost:8080/",
          "height": 34
        },
        "outputId": "ba34c129-89c4-4e16-fbb7-f06cd78c0d27"
      },
      "source": [
        "sample_sentence[0]"
      ],
      "execution_count": null,
      "outputs": [
        {
          "output_type": "execute_result",
          "data": {
            "text/plain": [
              "'o igti oferece especializacao em deep learning.'"
            ]
          },
          "metadata": {
            "tags": []
          },
          "execution_count": 90
        }
      ]
    },
    {
      "cell_type": "code",
      "metadata": {
        "id": "fPXCXPsPvkuv",
        "colab_type": "code",
        "colab": {}
      },
      "source": [
        "#tokenização de palavras\n",
        "tokenizacao_palavras=nltk.word_tokenize\n",
        "list_words=[]\n",
        "for i in range(len(sample_sentence)):\n",
        "  sample_words = tokenizacao_palavras(text=sample_sentence[i])\n",
        "  list_words.extend(sample_words)\n"
      ],
      "execution_count": null,
      "outputs": []
    },
    {
      "cell_type": "code",
      "metadata": {
        "id": "UMXwFa1Iw5a2",
        "colab_type": "code",
        "colab": {
          "base_uri": "https://localhost:8080/",
          "height": 54
        },
        "outputId": "857a728d-8e67-4b7f-fced-b13629b7d752"
      },
      "source": [
        "print(list_words)"
      ],
      "execution_count": null,
      "outputs": [
        {
          "output_type": "stream",
          "text": [
            "['o', 'igti', 'oferece', 'especializacao', 'em', 'deep', 'learning', '.', 'deep', 'learning', 'e', 'utilizado', 'em', 'diversas', 'aplicacoes', '.', 'as', 'aplicacoes', 'de', 'deep', 'learning', 'sao', 'estudadas', 'nesta', 'especializacao']\n"
          ],
          "name": "stdout"
        }
      ]
    },
    {
      "cell_type": "code",
      "metadata": {
        "id": "0yZEFwLNxdML",
        "colab_type": "code",
        "colab": {}
      },
      "source": [
        "#tokeniza palavras\n",
        "def tokenizaPalavras(sentenca):\n",
        "  sample_words = tokenizacao_palavras(text=sentenca)\n",
        "  return sample_words\n",
        "\n",
        "\n",
        "#removendo stopwords e criando o BoW\n",
        "def removeStopWords(list_of_words):\n",
        "\n",
        "  my_stop_words=['o','em','as','de','sao','nesta','.','e','a','na','do'] # cria a lista de stopwords\n",
        "  list_cleaned=set(list_of_words)-set(my_stop_words)\n",
        "  return list_cleaned\n",
        "\n",
        "my_BoW=removeStopWords(list_words)\n"
      ],
      "execution_count": null,
      "outputs": []
    },
    {
      "cell_type": "code",
      "metadata": {
        "id": "MVp7bYXm2aBS",
        "colab_type": "code",
        "colab": {
          "base_uri": "https://localhost:8080/",
          "height": 34
        },
        "outputId": "09db3c83-19da-4692-b878-25fad0130b22"
      },
      "source": [
        "print(my_BoW)"
      ],
      "execution_count": null,
      "outputs": [
        {
          "output_type": "stream",
          "text": [
            "{'oferece', 'estudadas', 'diversas', 'utilizado', 'especializacao', 'learning', 'aplicacoes', 'deep', 'igti'}\n"
          ],
          "name": "stdout"
        }
      ]
    },
    {
      "cell_type": "code",
      "metadata": {
        "id": "oz6-fmYP6xBX",
        "colab_type": "code",
        "colab": {
          "base_uri": "https://localhost:8080/",
          "height": 34
        },
        "outputId": "ac6d2790-a7a2-4ca1-96d8-0405d46aece8"
      },
      "source": [
        "#Cria o vetor que representa a sentenca na BoW \n",
        "def bagofwords(sentence, words):\n",
        "    sentence_words = extract_words(sentence)\n",
        "    # conta a frequência de palavras que estão no vetor do BoW\n",
        "    bag = np.zeros(len(words))\n",
        "    for sw in sentence_words:\n",
        "        for i,word in enumerate(words):\n",
        "            if word == sw: \n",
        "                bag[i] += 1\n",
        "                \n",
        "    return np.array(bag)\n",
        "\n",
        "sentenca_teste='o igti oferece especializacao em deep learning'\n",
        "print(bagofwords(sentenca_teste,my_BoW))"
      ],
      "execution_count": null,
      "outputs": [
        {
          "output_type": "stream",
          "text": [
            "[1. 0. 0. 0. 1. 1. 0. 1. 1.]\n"
          ],
          "name": "stdout"
        }
      ]
    },
    {
      "cell_type": "markdown",
      "metadata": {
        "id": "90XtnEWbHCxs",
        "colab_type": "text"
      },
      "source": [
        " ******---------------------**Processamento de imagens com Python --------------------- ****"
      ]
    },
    {
      "cell_type": "code",
      "metadata": {
        "id": "aOz5ASkc2yYt",
        "colab_type": "code",
        "colab": {}
      },
      "source": [
        "import cv2  # biblioteca openCV\n"
      ],
      "execution_count": null,
      "outputs": []
    },
    {
      "cell_type": "code",
      "metadata": {
        "id": "tjeQDASi2yiq",
        "colab_type": "code",
        "colab": {}
      },
      "source": [
        "# Criação do objeto CascadeClassifier \n",
        "face_detection = cv2.CascadeClassifier(\"haarcascade_frontalface_default.xml\") #arquivo xml que contém o treinamento do HaaR"
      ],
      "execution_count": null,
      "outputs": []
    },
    {
      "cell_type": "code",
      "metadata": {
        "id": "ZTZrE_nk1dM_",
        "colab_type": "code",
        "colab": {}
      },
      "source": [
        "# Carregando a imagem \n",
        "img = cv2.imread(\"CAPA2.jpg\")"
      ],
      "execution_count": null,
      "outputs": []
    },
    {
      "cell_type": "code",
      "metadata": {
        "id": "5uWBC6zzQcIw",
        "colab_type": "code",
        "colab": {}
      },
      "source": [
        "# Lendo a imagem em uma escala de cinza\n",
        "gray_img = cv2.cvtColor(img,cv2.COLOR_BGR2GRAY)"
      ],
      "execution_count": null,
      "outputs": []
    },
    {
      "cell_type": "code",
      "metadata": {
        "id": "zSwTyAnWQhTI",
        "colab_type": "code",
        "colab": {}
      },
      "source": [
        "# procurando pelas coordenadas da imagem\n",
        "faces = face_detection.detectMultiScale(gray_img, scaleFactor = 1.05, minNeighbors=5)"
      ],
      "execution_count": null,
      "outputs": []
    },
    {
      "cell_type": "code",
      "metadata": {
        "id": "Z7MEeqExSgc1",
        "colab_type": "code",
        "colab": {
          "base_uri": "https://localhost:8080/",
          "height": 384
        },
        "outputId": "37dabb6d-b7ec-4125-9f0e-a20fcffa30f3"
      },
      "source": [
        "from google.colab.patches import cv2_imshow   # biblioteca necessária para o google colab mostrar a imagem\n",
        "import matplotlib.pyplot as plt   # mostrar a imagem no tamanho desejado\n",
        "\n",
        "for x,y,w,h in faces:       #identifica as coordenadas da foto e desenha o retângulo\n",
        "    img = cv2.rectangle(img, (x,y), (x+w,y+h),(0,255,0),3)\n",
        " \n",
        "\n",
        "plt.figure(figsize=(20,10))\n",
        "cv2_imshow(img)\n",
        " \n",
        "cv2.waitKey(0)\n",
        " \n",
        "cv2.destroyAllWindows()"
      ],
      "execution_count": null,
      "outputs": [
        {
          "output_type": "display_data",
          "data": {
            "image/png": "[encoded data removed]",
            "text/plain": [
              "<PIL.Image.Image image mode=RGB size=610x350 at 0x7FF9BF86E278>"
            ]
          },
          "metadata": {
            "tags": []
          }
        },
        {
          "output_type": "display_data",
          "data": {
            "text/plain": [
              "<Figure size 1440x720 with 0 Axes>"
            ]
          },
          "metadata": {
            "tags": []
          }
        }
      ]
    },
    {
      "cell_type": "markdown",
      "metadata": {
        "id": "D9JxulFUUVGl",
        "colab_type": "text"
      },
      "source": [
        " ******---------------------**Criação de um Chatbot com Python --------------------- ****"
      ]
    },
    {
      "cell_type": "code",
      "metadata": {
        "id": "VfFlqQMoUdLa",
        "colab_type": "code",
        "colab": {}
      },
      "source": [
        "!pip3 install chatterbot   #instalando as bibliotecas necessárias\n"
      ],
      "execution_count": null,
      "outputs": []
    },
    {
      "cell_type": "code",
      "metadata": {
        "id": "UybKXqFBVKdq",
        "colab_type": "code",
        "colab": {}
      },
      "source": [
        "!pip3 install chatterbot_corpus  #instalando as bibliotecas necessárias"
      ],
      "execution_count": null,
      "outputs": []
    },
    {
      "cell_type": "code",
      "metadata": {
        "id": "JFb_BS0uUdhQ",
        "colab_type": "code",
        "colab": {}
      },
      "source": [
        "from chatterbot.trainers import ListTrainer  #ListTrainer responsável por permitir que\n",
        "                                        #uma lista de strings seja utilizada no processo de aprendizagem do Bot.\n",
        "from chatterbot import ChatBot          #classe para criação do chatbot"
      ],
      "execution_count": null,
      "outputs": []
    },
    {
      "cell_type": "code",
      "metadata": {
        "id": "htv3KcG4V9zd",
        "colab_type": "code",
        "colab": {
          "base_uri": "https://localhost:8080/",
          "height": 141
        },
        "outputId": "1882e80e-1540-4109-927b-4d3c26b71c1a"
      },
      "source": [
        "#criaçaõ das perguntas/respostas para o bot\n",
        "bot = ChatBot('ChatBot IGTI')                #objeto Chatbot\n",
        "\n",
        "conversa = ['Oi', 'Olá', 'Tudo bem?', 'Tudo ótimo','Você gosta de programar?', 'Sim, eu programo em Python']\n",
        "#foram criadas 3 perguntas/respostas. O segundo item da lista corresponde a resposta do item anterior\n",
        "\n",
        "\n",
        "trainer = ListTrainer(bot) #indica que o treinamento será através da lista de perguntas/respostas\n",
        "trainer.train(conversa)   #realiza o treinamento através das perguntas e respostas\n",
        "      "
      ],
      "execution_count": null,
      "outputs": [
        {
          "output_type": "stream",
          "text": [
            "[nltk_data] Downloading package stopwords to /root/nltk_data...\n",
            "[nltk_data]   Package stopwords is already up-to-date!\n",
            "[nltk_data] Downloading package averaged_perceptron_tagger to\n",
            "[nltk_data]     /root/nltk_data...\n",
            "[nltk_data]   Package averaged_perceptron_tagger is already up-to-\n",
            "[nltk_data]       date!\n",
            "List Trainer: [####################] 100%\n"
          ],
          "name": "stdout"
        }
      ]
    },
    {
      "cell_type": "code",
      "metadata": {
        "id": "kP4_ZTkIXai8",
        "colab_type": "code",
        "colab": {}
      },
      "source": [
        "#loop utilizado para capturar a interação com o usuário\n",
        "while True:\n",
        "    pergunta = input(\"Usuário: \")\n",
        "    resposta = bot.get_response(pergunta)\n",
        "    if float(resposta.confidence) > 0.5:   # verifica se existe alguma resposta armazenada com probabilidade \n",
        "                                          #maior que 50%  de ser a resposta à pergunta\n",
        "        print('IGTI Bot: ', resposta)\n",
        "    else:\n",
        "        print('IGTI Bot: Ainda não sei responder esta pergunta')"
      ],
      "execution_count": null,
      "outputs": []
    },
    {
      "cell_type": "code",
      "metadata": {
        "id": "EMW_AEpTaQtt",
        "colab_type": "code",
        "colab": {}
      },
      "source": [
        ""
      ],
      "execution_count": null,
      "outputs": []
    }
  ]
}