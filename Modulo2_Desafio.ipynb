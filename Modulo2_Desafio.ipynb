{
  "nbformat": 4,
  "nbformat_minor": 0,
  "metadata": {
    "colab": {
      "name": "Untitled1.ipynb",
      "provenance": [],
      "private_outputs": true,
      "authorship_tag": "ABX9TyOh6siWvXf9sPkHHmIqkAZF",
      "include_colab_link": true
    },
    "kernelspec": {
      "name": "python3",
      "display_name": "Python 3"
    }
  },
  "cells": [
    {
      "cell_type": "markdown",
      "metadata": {
        "id": "view-in-github",
        "colab_type": "text"
      },
      "source": [
        "<a href=\"https://colab.research.google.com/github/slpires/IGTIDesenvolvedorPython/blob/master/Modulo2_Desafio.ipynb\" target=\"_parent\"><img src=\"https://colab.research.google.com/assets/colab-badge.svg\" alt=\"Open In Colab\"/></a>"
      ]
    },
    {
      "cell_type": "markdown",
      "metadata": {
        "id": "BIw9t_Bj6OMu",
        "colab_type": "text"
      },
      "source": [
        "Módulo 2 - Desafio"
      ]
    },
    {
      "cell_type": "code",
      "metadata": {
        "id": "E-xu8-sj6UUF",
        "colab_type": "code",
        "colab": {}
      },
      "source": [
        "import numpy as np\n",
        "import pandas as pd"
      ],
      "execution_count": null,
      "outputs": []
    },
    {
      "cell_type": "code",
      "metadata": {
        "id": "LN3xnPmL6ews",
        "colab_type": "code",
        "colab": {}
      },
      "source": [
        "df = pd.read_csv(\"https://pycourse.s3.amazonaws.com/bike-sharing.csv\")"
      ],
      "execution_count": null,
      "outputs": []
    },
    {
      "cell_type": "code",
      "metadata": {
        "id": "y3ImkTIC8wee",
        "colab_type": "code",
        "colab": {}
      },
      "source": [
        "df.head()"
      ],
      "execution_count": null,
      "outputs": []
    },
    {
      "cell_type": "code",
      "metadata": {
        "id": "t5HL9sG29DX3",
        "colab_type": "code",
        "colab": {}
      },
      "source": [
        "!pip install pandas-profiling\n",
        "!pip install --upgrade pandas-profiling"
      ],
      "execution_count": null,
      "outputs": []
    },
    {
      "cell_type": "code",
      "metadata": {
        "id": "a5RJRgIT9RFv",
        "colab_type": "code",
        "colab": {}
      },
      "source": [
        "# descritivo dos dados\n",
        "from pandas_profiling import ProfileReport\n",
        "\n",
        "profile = ProfileReport(df, title=\"BIKES dataset\")"
      ],
      "execution_count": null,
      "outputs": []
    },
    {
      "cell_type": "code",
      "metadata": {
        "id": "OyCRmtE29iUo",
        "colab_type": "code",
        "colab": {}
      },
      "source": [
        "profile"
      ],
      "execution_count": null,
      "outputs": []
    },
    {
      "cell_type": "code",
      "metadata": {
        "id": "iGYQKVJy-b0o",
        "colab_type": "code",
        "colab": {}
      },
      "source": [
        "df.describe()"
      ],
      "execution_count": null,
      "outputs": []
    },
    {
      "cell_type": "code",
      "metadata": {
        "id": "ZrMLbnIDB2gH",
        "colab_type": "code",
        "colab": {}
      },
      "source": [
        "df.info()"
      ],
      "execution_count": null,
      "outputs": []
    },
    {
      "cell_type": "code",
      "metadata": {
        "id": "RKjrqQO4C2yO",
        "colab_type": "code",
        "colab": {}
      },
      "source": [
        "df.ano = df.datetime.str.slice(0,3)"
      ],
      "execution_count": null,
      "outputs": []
    },
    {
      "cell_type": "code",
      "metadata": {
        "id": "BQutprUTD0Q0",
        "colab_type": "code",
        "colab": {}
      },
      "source": [
        "df.info()"
      ],
      "execution_count": null,
      "outputs": []
    },
    {
      "cell_type": "code",
      "metadata": {
        "id": "jfuvddFbFEBa",
        "colab_type": "code",
        "colab": {}
      },
      "source": [
        "df2011 = df[df.datetime.str.slice(1,4) == 2011]\n"
      ],
      "execution_count": null,
      "outputs": []
    },
    {
      "cell_type": "code",
      "metadata": {
        "id": "_3NDOP3SFSVp",
        "colab_type": "code",
        "colab": {}
      },
      "source": [
        "df2011.describe()"
      ],
      "execution_count": null,
      "outputs": []
    },
    {
      "cell_type": "code",
      "metadata": {
        "id": "1kMVtkfMFb5a",
        "colab_type": "code",
        "colab": {}
      },
      "source": [
        "df2011.info()"
      ],
      "execution_count": null,
      "outputs": []
    }
  ]
}