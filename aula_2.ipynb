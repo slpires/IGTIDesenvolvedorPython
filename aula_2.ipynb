{
  "nbformat": 4,
  "nbformat_minor": 0,
  "metadata": {
    "colab": {
      "name": "Copy of aula_2.ipynb",
      "provenance": [],
      "include_colab_link": true
    },
    "kernelspec": {
      "name": "python3",
      "display_name": "Python 3"
    }
  },
  "cells": [
    {
      "cell_type": "markdown",
      "metadata": {
        "id": "view-in-github",
        "colab_type": "text"
      },
      "source": [
        "<a href=\"https://colab.research.google.com/github/slpires/IGTIDesenvolvedorPython/blob/master/aula_2.ipynb\" target=\"_parent\"><img src=\"https://colab.research.google.com/assets/colab-badge.svg\" alt=\"Open In Colab\"/></a>"
      ]
    },
    {
      "cell_type": "code",
      "metadata": {
        "id": "trv8WZdwU1Kz",
        "colab_type": "code",
        "colab": {}
      },
      "source": [
        "#mostrando o funcionamento do garbage collection\n",
        "import sys  #módulo utilizado gerar as interações com o sistema"
      ],
      "execution_count": 2,
      "outputs": []
    },
    {
      "cell_type": "code",
      "metadata": {
        "id": "TJ2KqSFTnCWl",
        "colab_type": "code",
        "colab": {
          "base_uri": "https://localhost:8080/",
          "height": 1000
        },
        "outputId": "e5bf6cea-0cb0-45c8-d8f3-808ca44b7e64"
      },
      "source": [
        "help(sys)"
      ],
      "execution_count": 3,
      "outputs": [
        {
          "output_type": "stream",
          "text": [
            "Help on built-in module sys:\n",
            "\n",
            "NAME\n",
            "    sys\n",
            "\n",
            "MODULE REFERENCE\n",
            "    https://docs.python.org/3.6/library/sys\n",
            "    \n",
            "    The following documentation is automatically generated from the Python\n",
            "    source files.  It may be incomplete, incorrect or include features that\n",
            "    are considered implementation detail and may vary between Python\n",
            "    implementations.  When in doubt, consult the module reference at the\n",
            "    location listed above.\n",
            "\n",
            "DESCRIPTION\n",
            "    This module provides access to some objects used or maintained by the\n",
            "    interpreter and to functions that interact strongly with the interpreter.\n",
            "    \n",
            "    Dynamic objects:\n",
            "    \n",
            "    argv -- command line arguments; argv[0] is the script pathname if known\n",
            "    path -- module search path; path[0] is the script directory, else ''\n",
            "    modules -- dictionary of loaded modules\n",
            "    \n",
            "    displayhook -- called to show results in an interactive session\n",
            "    excepthook -- called to handle any uncaught exception other than SystemExit\n",
            "      To customize printing in an interactive session or to install a custom\n",
            "      top-level exception handler, assign other functions to replace these.\n",
            "    \n",
            "    stdin -- standard input file object; used by input()\n",
            "    stdout -- standard output file object; used by print()\n",
            "    stderr -- standard error object; used for error messages\n",
            "      By assigning other file objects (or objects that behave like files)\n",
            "      to these, it is possible to redirect all of the interpreter's I/O.\n",
            "    \n",
            "    last_type -- type of last uncaught exception\n",
            "    last_value -- value of last uncaught exception\n",
            "    last_traceback -- traceback of last uncaught exception\n",
            "      These three are only available in an interactive session after a\n",
            "      traceback has been printed.\n",
            "    \n",
            "    Static objects:\n",
            "    \n",
            "    builtin_module_names -- tuple of module names built into this interpreter\n",
            "    copyright -- copyright notice pertaining to this interpreter\n",
            "    exec_prefix -- prefix used to find the machine-specific Python library\n",
            "    executable -- absolute path of the executable binary of the Python interpreter\n",
            "    float_info -- a struct sequence with information about the float implementation.\n",
            "    float_repr_style -- string indicating the style of repr() output for floats\n",
            "    hash_info -- a struct sequence with information about the hash algorithm.\n",
            "    hexversion -- version information encoded as a single integer\n",
            "    implementation -- Python implementation information.\n",
            "    int_info -- a struct sequence with information about the int implementation.\n",
            "    maxsize -- the largest supported length of containers.\n",
            "    maxunicode -- the value of the largest Unicode code point\n",
            "    platform -- platform identifier\n",
            "    prefix -- prefix used to find the Python library\n",
            "    thread_info -- a struct sequence with information about the thread implementation.\n",
            "    version -- the version of this interpreter as a string\n",
            "    version_info -- version information as a named tuple\n",
            "    __stdin__ -- the original stdin; don't touch!\n",
            "    __stdout__ -- the original stdout; don't touch!\n",
            "    __stderr__ -- the original stderr; don't touch!\n",
            "    __displayhook__ -- the original displayhook; don't touch!\n",
            "    __excepthook__ -- the original excepthook; don't touch!\n",
            "    \n",
            "    Functions:\n",
            "    \n",
            "    displayhook() -- print an object to the screen, and save it in builtins._\n",
            "    excepthook() -- print an exception and its traceback to sys.stderr\n",
            "    exc_info() -- return thread-safe information about the current exception\n",
            "    exit() -- exit the interpreter by raising SystemExit\n",
            "    getdlopenflags() -- returns flags to be used for dlopen() calls\n",
            "    getprofile() -- get the global profiling function\n",
            "    getrefcount() -- return the reference count for an object (plus one :-)\n",
            "    getrecursionlimit() -- return the max recursion depth for the interpreter\n",
            "    getsizeof() -- return the size of an object in bytes\n",
            "    gettrace() -- get the global debug tracing function\n",
            "    setcheckinterval() -- control how often the interpreter checks for events\n",
            "    setdlopenflags() -- set the flags to be used for dlopen() calls\n",
            "    setprofile() -- set the global profiling function\n",
            "    setrecursionlimit() -- set the max recursion depth for the interpreter\n",
            "    settrace() -- set the global debug tracing function\n",
            "\n",
            "FUNCTIONS\n",
            "    __displayhook__ = displayhook(...)\n",
            "        displayhook(object) -> None\n",
            "        \n",
            "        Print an object to sys.stdout and also save it in builtins._\n",
            "    \n",
            "    __excepthook__ = excepthook(...)\n",
            "        excepthook(exctype, value, traceback) -> None\n",
            "        \n",
            "        Handle an exception by displaying it with a traceback on sys.stderr.\n",
            "    \n",
            "    call_tracing(...)\n",
            "        call_tracing(func, args) -> object\n",
            "        \n",
            "        Call func(*args), while tracing is enabled.  The tracing state is\n",
            "        saved, and restored afterwards.  This is intended to be called from\n",
            "        a debugger from a checkpoint, to recursively debug some other code.\n",
            "    \n",
            "    callstats(...)\n",
            "        callstats() -> tuple of integers\n",
            "        \n",
            "        Return a tuple of function call statistics, if CALL_PROFILE was defined\n",
            "        when Python was built.  Otherwise, return None.\n",
            "        \n",
            "        When enabled, this function returns detailed, implementation-specific\n",
            "        details about the number of function calls executed. The return value is\n",
            "        a 11-tuple where the entries in the tuple are counts of:\n",
            "        0. all function calls\n",
            "        1. calls to PyFunction_Type objects\n",
            "        2. PyFunction calls that do not create an argument tuple\n",
            "        3. PyFunction calls that do not create an argument tuple\n",
            "           and bypass PyEval_EvalCodeEx()\n",
            "        4. PyMethod calls\n",
            "        5. PyMethod calls on bound methods\n",
            "        6. PyType calls\n",
            "        7. PyCFunction calls\n",
            "        8. generator calls\n",
            "        9. All other calls\n",
            "        10. Number of stack pops performed by call_function()\n",
            "    \n",
            "    exc_info(...)\n",
            "        exc_info() -> (type, value, traceback)\n",
            "        \n",
            "        Return information about the most recent exception caught by an except\n",
            "        clause in the current stack frame or in an older stack frame.\n",
            "    \n",
            "    exit(...)\n",
            "        exit([status])\n",
            "        \n",
            "        Exit the interpreter by raising SystemExit(status).\n",
            "        If the status is omitted or None, it defaults to zero (i.e., success).\n",
            "        If the status is an integer, it will be used as the system exit status.\n",
            "        If it is another kind of object, it will be printed and the system\n",
            "        exit status will be one (i.e., failure).\n",
            "    \n",
            "    get_asyncgen_hooks(...)\n",
            "        get_asyncgen_hooks()\n",
            "        \n",
            "        Return a namedtuple of installed asynchronous generators hooks (firstiter, finalizer).\n",
            "    \n",
            "    get_coroutine_wrapper(...)\n",
            "        get_coroutine_wrapper()\n",
            "        \n",
            "        Return the wrapper for coroutine objects set by sys.set_coroutine_wrapper.\n",
            "    \n",
            "    getallocatedblocks(...)\n",
            "        getallocatedblocks() -> integer\n",
            "        \n",
            "        Return the number of memory blocks currently allocated, regardless of their\n",
            "        size.\n",
            "    \n",
            "    getcheckinterval(...)\n",
            "        getcheckinterval() -> current check interval; see setcheckinterval().\n",
            "    \n",
            "    getdefaultencoding(...)\n",
            "        getdefaultencoding() -> string\n",
            "        \n",
            "        Return the current default string encoding used by the Unicode \n",
            "        implementation.\n",
            "    \n",
            "    getdlopenflags(...)\n",
            "        getdlopenflags() -> int\n",
            "        \n",
            "        Return the current value of the flags that are used for dlopen calls.\n",
            "        The flag constants are defined in the os module.\n",
            "    \n",
            "    getfilesystemencodeerrors(...)\n",
            "        getfilesystemencodeerrors() -> string\n",
            "        \n",
            "        Return the error mode used to convert Unicode filenames in\n",
            "        operating system filenames.\n",
            "    \n",
            "    getfilesystemencoding(...)\n",
            "        getfilesystemencoding() -> string\n",
            "        \n",
            "        Return the encoding used to convert Unicode filenames in\n",
            "        operating system filenames.\n",
            "    \n",
            "    getprofile(...)\n",
            "        getprofile()\n",
            "        \n",
            "        Return the profiling function set with sys.setprofile.\n",
            "        See the profiler chapter in the library manual.\n",
            "    \n",
            "    getrecursionlimit(...)\n",
            "        getrecursionlimit()\n",
            "        \n",
            "        Return the current value of the recursion limit, the maximum depth\n",
            "        of the Python interpreter stack.  This limit prevents infinite\n",
            "        recursion from causing an overflow of the C stack and crashing Python.\n",
            "    \n",
            "    getrefcount(...)\n",
            "        getrefcount(object) -> integer\n",
            "        \n",
            "        Return the reference count of object.  The count returned is generally\n",
            "        one higher than you might expect, because it includes the (temporary)\n",
            "        reference as an argument to getrefcount().\n",
            "    \n",
            "    getsizeof(...)\n",
            "        getsizeof(object, default) -> int\n",
            "        \n",
            "        Return the size of object in bytes.\n",
            "    \n",
            "    getswitchinterval(...)\n",
            "        getswitchinterval() -> current thread switch interval; see setswitchinterval().\n",
            "    \n",
            "    gettrace(...)\n",
            "        gettrace()\n",
            "        \n",
            "        Return the global debug tracing function set with sys.settrace.\n",
            "        See the debugger chapter in the library manual.\n",
            "    \n",
            "    intern(...)\n",
            "        intern(string) -> string\n",
            "        \n",
            "        ``Intern'' the given string.  This enters the string in the (global)\n",
            "        table of interned strings whose purpose is to speed up dictionary lookups.\n",
            "        Return the string itself or the previously interned string object with the\n",
            "        same value.\n",
            "    \n",
            "    is_finalizing(...)\n",
            "        is_finalizing()\n",
            "        Return True if Python is exiting.\n",
            "    \n",
            "    set_asyncgen_hooks(...)\n",
            "        set_asyncgen_hooks(*, firstiter=None, finalizer=None)\n",
            "        \n",
            "        Set a finalizer for async generators objects.\n",
            "    \n",
            "    set_coroutine_wrapper(...)\n",
            "        set_coroutine_wrapper(wrapper)\n",
            "        \n",
            "        Set a wrapper for coroutine objects.\n",
            "    \n",
            "    setcheckinterval(...)\n",
            "        setcheckinterval(n)\n",
            "        \n",
            "        Tell the Python interpreter to check for asynchronous events every\n",
            "        n instructions.  This also affects how often thread switches occur.\n",
            "    \n",
            "    setdlopenflags(...)\n",
            "        setdlopenflags(n) -> None\n",
            "        \n",
            "        Set the flags used by the interpreter for dlopen calls, such as when the\n",
            "        interpreter loads extension modules.  Among other things, this will enable\n",
            "        a lazy resolving of symbols when importing a module, if called as\n",
            "        sys.setdlopenflags(0).  To share symbols across extension modules, call as\n",
            "        sys.setdlopenflags(os.RTLD_GLOBAL).  Symbolic names for the flag modules\n",
            "        can be found in the os module (RTLD_xxx constants, e.g. os.RTLD_LAZY).\n",
            "    \n",
            "    setprofile(...)\n",
            "        setprofile(function)\n",
            "        \n",
            "        Set the profiling function.  It will be called on each function call\n",
            "        and return.  See the profiler chapter in the library manual.\n",
            "    \n",
            "    setrecursionlimit(...)\n",
            "        setrecursionlimit(n)\n",
            "        \n",
            "        Set the maximum depth of the Python interpreter stack to n.  This\n",
            "        limit prevents infinite recursion from causing an overflow of the C\n",
            "        stack and crashing Python.  The highest possible limit is platform-\n",
            "        dependent.\n",
            "    \n",
            "    setswitchinterval(...)\n",
            "        setswitchinterval(n)\n",
            "        \n",
            "        Set the ideal thread switching delay inside the Python interpreter\n",
            "        The actual frequency of switching threads can be lower if the\n",
            "        interpreter executes long sequences of uninterruptible code\n",
            "        (this is implementation-specific and workload-dependent).\n",
            "        \n",
            "        The parameter must represent the desired switching delay in seconds\n",
            "        A typical value is 0.005 (5 milliseconds).\n",
            "    \n",
            "    settrace(...)\n",
            "        settrace(function)\n",
            "        \n",
            "        Set the global debug tracing function.  It will be called on each\n",
            "        function call.  See the debugger chapter in the library manual.\n",
            "\n",
            "DATA\n",
            "    __stderr__ = <_io.TextIOWrapper name='<stderr>' mode='w' encoding='UTF...\n",
            "    __stdin__ = <_io.TextIOWrapper name='<stdin>' mode='r' encoding='UTF-8...\n",
            "    __stdout__ = <_io.TextIOWrapper name='<stdout>' mode='w' encoding='UTF...\n",
            "    abiflags = 'm'\n",
            "    api_version = 1013\n",
            "    argv = ['/usr/local/lib/python3.6/dist-packages/ipykernel_launcher.py'...\n",
            "    base_exec_prefix = '/usr'\n",
            "    base_prefix = '/usr'\n",
            "    builtin_module_names = ('_ast', '_bisect', '_blake2', '_codecs', '_col...\n",
            "    byteorder = 'little'\n",
            "    copyright = 'Copyright (c) 2001-2019 Python Software Foundati...ematis...\n",
            "    displayhook = <ipykernel.displayhook.ZMQShellDisplayHook object>\n",
            "    dont_write_bytecode = False\n",
            "    exec_prefix = '/usr'\n",
            "    executable = '/usr/bin/python3'\n",
            "    flags = sys.flags(debug=0, inspect=0, interactive=0, opt...ing=0, quie...\n",
            "    float_info = sys.float_info(max=1.7976931348623157e+308, max_...epsilo...\n",
            "    float_repr_style = 'short'\n",
            "    hash_info = sys.hash_info(width=64, modulus=2305843009213693...iphash2...\n",
            "    hexversion = 50727408\n",
            "    implementation = namespace(_multiarch='x86_64-linux-gnu', cache_t...in...\n",
            "    int_info = sys.int_info(bits_per_digit=30, sizeof_digit=4)\n",
            "    maxsize = 9223372036854775807\n",
            "    maxunicode = 1114111\n",
            "    meta_path = [<google.colab._import_hooks._cv2._OpenCVImportHook object...\n",
            "    modules = {'IPython': <module 'IPython' from '/usr/local/lib/python3.6...\n",
            "    path = ['', '/env/python', '/usr/lib/python36.zip', '/usr/lib/python3....\n",
            "    path_hooks = [<class 'zipimport.zipimporter'>, <function FileFinder.pa...\n",
            "    path_importer_cache = {'/content': FileFinder('/content'), '/env/pytho...\n",
            "    platform = 'linux'\n",
            "    prefix = '/usr'\n",
            "    ps1 = 'In : '\n",
            "    ps2 = '...: '\n",
            "    ps3 = 'Out: '\n",
            "    stderr = <ipykernel.iostream.OutStream object>\n",
            "    stdin = <_io.TextIOWrapper name='<stdin>' mode='r' encoding='UTF-8'>\n",
            "    stdout = <ipykernel.iostream.OutStream object>\n",
            "    thread_info = sys.thread_info(name='pthread', lock='semaphore', versio...\n",
            "    version = '3.6.9 (default, Apr 18 2020, 01:56:04) \\n[GCC 8.4.0]'\n",
            "    version_info = sys.version_info(major=3, minor=6, micro=9, releaseleve...\n",
            "    warnoptions = ['ignore:::pip._internal.cli.base_command']\n",
            "\n",
            "FILE\n",
            "    (built-in)\n",
            "\n",
            "\n"
          ],
          "name": "stdout"
        }
      ]
    },
    {
      "cell_type": "code",
      "metadata": {
        "id": "E2qzsSlQVHfz",
        "colab_type": "code",
        "colab": {}
      },
      "source": [
        "minha_string='IGTI'   #realizando a atribuição a uma variável"
      ],
      "execution_count": 4,
      "outputs": []
    },
    {
      "cell_type": "code",
      "metadata": {
        "id": "dbSvrbzMVvmm",
        "colab_type": "code",
        "colab": {
          "base_uri": "https://localhost:8080/",
          "height": 34
        },
        "outputId": "8b735604-7eed-4ca5-d471-cf032f75e358"
      },
      "source": [
        "sys.getrefcount(minha_string)  #analisando o contador de referencias"
      ],
      "execution_count": 5,
      "outputs": [
        {
          "output_type": "execute_result",
          "data": {
            "text/plain": [
              "2"
            ]
          },
          "metadata": {
            "tags": []
          },
          "execution_count": 5
        }
      ]
    },
    {
      "cell_type": "code",
      "metadata": {
        "id": "n-4I89xEV27S",
        "colab_type": "code",
        "colab": {}
      },
      "source": [
        "#criando uma lista com o objeto minha string\n",
        "minha_lista=[minha_string]"
      ],
      "execution_count": 6,
      "outputs": []
    },
    {
      "cell_type": "code",
      "metadata": {
        "id": "wdPHxTlfWECL",
        "colab_type": "code",
        "colab": {
          "base_uri": "https://localhost:8080/",
          "height": 34
        },
        "outputId": "70204990-5f29-49ec-b830-0cb6a5134b54"
      },
      "source": [
        "sys.getrefcount(minha_string)  #analisando o contador de referencias"
      ],
      "execution_count": 7,
      "outputs": [
        {
          "output_type": "execute_result",
          "data": {
            "text/plain": [
              "3"
            ]
          },
          "metadata": {
            "tags": []
          },
          "execution_count": 7
        }
      ]
    },
    {
      "cell_type": "code",
      "metadata": {
        "id": "iZh-kVJDWI4F",
        "colab_type": "code",
        "colab": {}
      },
      "source": [
        "#criando um dicionário com a minha_string\n",
        "meu_dicionario={'chave':minha_string}"
      ],
      "execution_count": 8,
      "outputs": []
    },
    {
      "cell_type": "code",
      "metadata": {
        "id": "uGAKVnCXWRes",
        "colab_type": "code",
        "colab": {
          "base_uri": "https://localhost:8080/",
          "height": 34
        },
        "outputId": "b0fbc9cf-bdcc-427a-baaf-67bfaae5b19c"
      },
      "source": [
        "sys.getrefcount(minha_string)  #analisando o contador de referencias"
      ],
      "execution_count": 9,
      "outputs": [
        {
          "output_type": "execute_result",
          "data": {
            "text/plain": [
              "4"
            ]
          },
          "metadata": {
            "tags": []
          },
          "execution_count": 9
        }
      ]
    },
    {
      "cell_type": "code",
      "metadata": {
        "id": "ftQgnlXGWWgl",
        "colab_type": "code",
        "colab": {}
      },
      "source": [
        "#deletando um elemento\n",
        "del meu_dicionario"
      ],
      "execution_count": 10,
      "outputs": []
    },
    {
      "cell_type": "code",
      "metadata": {
        "id": "hR0XoQjkai34",
        "colab_type": "code",
        "colab": {
          "base_uri": "https://localhost:8080/",
          "height": 34
        },
        "outputId": "50975f52-ddf7-4755-f092-586b98c06b65"
      },
      "source": [
        "sys.getrefcount(minha_string)  #analisando o contador de referencias"
      ],
      "execution_count": 11,
      "outputs": [
        {
          "output_type": "execute_result",
          "data": {
            "text/plain": [
              "3"
            ]
          },
          "metadata": {
            "tags": []
          },
          "execution_count": 11
        }
      ]
    },
    {
      "cell_type": "code",
      "metadata": {
        "id": "9SXJAHGHalmR",
        "colab_type": "code",
        "colab": {}
      },
      "source": [
        "#deletando a lista\n",
        "del minha_lista"
      ],
      "execution_count": 12,
      "outputs": []
    },
    {
      "cell_type": "code",
      "metadata": {
        "id": "-V73QoPfarwi",
        "colab_type": "code",
        "colab": {
          "base_uri": "https://localhost:8080/",
          "height": 34
        },
        "outputId": "888a12cb-8059-4266-f37a-f2e8abc15fae"
      },
      "source": [
        "sys.getrefcount(minha_string)  #analisando o contador de referencias"
      ],
      "execution_count": 13,
      "outputs": [
        {
          "output_type": "execute_result",
          "data": {
            "text/plain": [
              "2"
            ]
          },
          "metadata": {
            "tags": []
          },
          "execution_count": 13
        }
      ]
    },
    {
      "cell_type": "markdown",
      "metadata": {
        "id": "JwC4h9Yaat_P",
        "colab_type": "text"
      },
      "source": [
        "**Generational garbage collector**"
      ]
    },
    {
      "cell_type": "code",
      "metadata": {
        "id": "SVZRz22IgCif",
        "colab_type": "code",
        "colab": {}
      },
      "source": [
        "#criando uma lista vazia\n",
        "lista=[]"
      ],
      "execution_count": 14,
      "outputs": []
    },
    {
      "cell_type": "code",
      "metadata": {
        "id": "DNPHxdKTgwFe",
        "colab_type": "code",
        "colab": {}
      },
      "source": [
        "lista.append(lista)  #adicionando a lista para a lista"
      ],
      "execution_count": 15,
      "outputs": []
    },
    {
      "cell_type": "code",
      "metadata": {
        "id": "ni5UV_9Gr8-7",
        "colab_type": "code",
        "colab": {
          "base_uri": "https://localhost:8080/",
          "height": 34
        },
        "outputId": "2fb03b56-27cb-44dc-c82f-7559d16e3707"
      },
      "source": [
        "lista"
      ],
      "execution_count": 16,
      "outputs": [
        {
          "output_type": "execute_result",
          "data": {
            "text/plain": [
              "[[...]]"
            ]
          },
          "metadata": {
            "tags": []
          },
          "execution_count": 16
        }
      ]
    },
    {
      "cell_type": "code",
      "metadata": {
        "id": "W8UVhT9MsiUt",
        "colab_type": "code",
        "colab": {}
      },
      "source": [
        "lista_2=[]"
      ],
      "execution_count": 17,
      "outputs": []
    },
    {
      "cell_type": "code",
      "metadata": {
        "id": "GWRKv8QLsk1v",
        "colab_type": "code",
        "colab": {
          "base_uri": "https://localhost:8080/",
          "height": 34
        },
        "outputId": "ef67d9b2-6426-4990-e58e-6edcc9dcf010"
      },
      "source": [
        "lista_2"
      ],
      "execution_count": 18,
      "outputs": [
        {
          "output_type": "execute_result",
          "data": {
            "text/plain": [
              "[]"
            ]
          },
          "metadata": {
            "tags": []
          },
          "execution_count": 18
        }
      ]
    },
    {
      "cell_type": "code",
      "metadata": {
        "id": "M35zb9nokyDx",
        "colab_type": "code",
        "colab": {
          "base_uri": "https://localhost:8080/",
          "height": 34
        },
        "outputId": "be02dde0-2fa7-46ec-de98-d0482e7bf092"
      },
      "source": [
        "id(lista)"
      ],
      "execution_count": 19,
      "outputs": [
        {
          "output_type": "execute_result",
          "data": {
            "text/plain": [
              "140618600412360"
            ]
          },
          "metadata": {
            "tags": []
          },
          "execution_count": 19
        }
      ]
    },
    {
      "cell_type": "code",
      "metadata": {
        "id": "Cgdt9JMchjFF",
        "colab_type": "code",
        "colab": {}
      },
      "source": [
        "import gc  #utilizado para empregar o gc"
      ],
      "execution_count": 20,
      "outputs": []
    },
    {
      "cell_type": "markdown",
      "metadata": {
        "id": "Z56Kib8iicpZ",
        "colab_type": "text"
      },
      "source": [
        "\n",
        "\n",
        "*   geração 0 - executa o garbage collection -> sobreviventes -> geração 1\n",
        "*   geração 1 - executa o garbage collection -> sobreviventes -> geração 2\n",
        "*   geração 2\n"
      ]
    },
    {
      "cell_type": "code",
      "metadata": {
        "id": "SGEgHo_ehoaa",
        "colab_type": "code",
        "colab": {
          "base_uri": "https://localhost:8080/",
          "height": 34
        },
        "outputId": "b1e32a21-7c1f-4c73-d0cb-b435e6f78be5"
      },
      "source": [
        "gc.get_threshold()"
      ],
      "execution_count": 21,
      "outputs": [
        {
          "output_type": "execute_result",
          "data": {
            "text/plain": [
              "(700, 10, 10)"
            ]
          },
          "metadata": {
            "tags": []
          },
          "execution_count": 21
        }
      ]
    },
    {
      "cell_type": "code",
      "metadata": {
        "id": "OkDT0FWaTuwd",
        "colab_type": "code",
        "colab": {}
      },
      "source": [
        "#classe nó \n",
        "class Nos:\n",
        "  def __init__(self,valor):\n",
        "    self.valor=valor\n",
        "  def relaciona(self,relaciona):\n",
        "    self.relaciona=relaciona"
      ],
      "execution_count": 23,
      "outputs": []
    },
    {
      "cell_type": "code",
      "metadata": {
        "id": "CLmw3EKfUR89",
        "colab_type": "code",
        "colab": {}
      },
      "source": [
        "raiz=Nos('raiz')\n",
        "esquerdo=Nos('esquerdo')\n",
        "direito=Nos('direito')"
      ],
      "execution_count": 24,
      "outputs": []
    },
    {
      "cell_type": "code",
      "metadata": {
        "id": "Wo-Gi2MSv0Sk",
        "colab_type": "code",
        "colab": {
          "base_uri": "https://localhost:8080/",
          "height": 35
        },
        "outputId": "0186f265-f553-4a8a-8d6f-e78953bba2eb"
      },
      "source": [
        "raiz.valor"
      ],
      "execution_count": 25,
      "outputs": [
        {
          "output_type": "execute_result",
          "data": {
            "application/vnd.google.colaboratory.intrinsic+json": {
              "type": "string"
            },
            "text/plain": [
              "'raiz'"
            ]
          },
          "metadata": {
            "tags": []
          },
          "execution_count": 25
        }
      ]
    },
    {
      "cell_type": "code",
      "metadata": {
        "id": "3FXTH0EKUgfr",
        "colab_type": "code",
        "colab": {}
      },
      "source": [
        "raiz.relaciona(esquerdo)\n",
        "esquerdo.relaciona(direito)\n",
        "direito.relaciona(esquerdo)"
      ],
      "execution_count": 26,
      "outputs": []
    },
    {
      "cell_type": "markdown",
      "metadata": {
        "id": "-XwX1DoTU-Aq",
        "colab_type": "text"
      },
      "source": [
        "![image.png](data:image/png;base64,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)"
      ]
    },
    {
      "cell_type": "code",
      "metadata": {
        "id": "qQnEdNqlV3Iz",
        "colab_type": "code",
        "colab": {
          "base_uri": "https://localhost:8080/",
          "height": 34
        },
        "outputId": "e7654657-583d-40e9-f129-6156b7198976"
      },
      "source": [
        "sys.getrefcount(raiz)  #analisando o contador de referencias"
      ],
      "execution_count": 27,
      "outputs": [
        {
          "output_type": "execute_result",
          "data": {
            "text/plain": [
              "2"
            ]
          },
          "metadata": {
            "tags": []
          },
          "execution_count": 27
        }
      ]
    },
    {
      "cell_type": "code",
      "metadata": {
        "id": "7k8Zv0AJV9uw",
        "colab_type": "code",
        "colab": {
          "base_uri": "https://localhost:8080/",
          "height": 34
        },
        "outputId": "ddf82714-e6bb-49cf-e646-2728bdad2ff6"
      },
      "source": [
        "sys.getrefcount(esquerdo)  #analisando o contador de referencias"
      ],
      "execution_count": 28,
      "outputs": [
        {
          "output_type": "execute_result",
          "data": {
            "text/plain": [
              "4"
            ]
          },
          "metadata": {
            "tags": []
          },
          "execution_count": 28
        }
      ]
    },
    {
      "cell_type": "code",
      "metadata": {
        "id": "txBZdQ3vWAwY",
        "colab_type": "code",
        "colab": {
          "base_uri": "https://localhost:8080/",
          "height": 34
        },
        "outputId": "7a68ef79-e648-4742-b932-442bd3c1f393"
      },
      "source": [
        "sys.getrefcount(direito)  #analisando o contador de referencias"
      ],
      "execution_count": 29,
      "outputs": [
        {
          "output_type": "execute_result",
          "data": {
            "text/plain": [
              "3"
            ]
          },
          "metadata": {
            "tags": []
          },
          "execution_count": 29
        }
      ]
    },
    {
      "cell_type": "code",
      "metadata": {
        "id": "wWUUUX34WFTJ",
        "colab_type": "code",
        "colab": {}
      },
      "source": [
        "#deletando os elementos\n",
        "del raiz\n",
        "del esquerdo\n",
        "del direito"
      ],
      "execution_count": 30,
      "outputs": []
    },
    {
      "cell_type": "markdown",
      "metadata": {
        "id": "kdzUHO3iWLEA",
        "colab_type": "text"
      },
      "source": [
        "![image.png](data:image/png;base64,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)"
      ]
    },
    {
      "cell_type": "code",
      "metadata": {
        "id": "2dRLx5RmW-xd",
        "colab_type": "code",
        "colab": {
          "base_uri": "https://localhost:8080/",
          "height": 163
        },
        "outputId": "39916315-be6e-485d-d342-876d9fba98c6"
      },
      "source": [
        "sys.getrefcount(direito)  #analisando o contador de referencias"
      ],
      "execution_count": 31,
      "outputs": [
        {
          "output_type": "error",
          "ename": "NameError",
          "evalue": "ignored",
          "traceback": [
            "\u001b[0;31m---------------------------------------------------------------------------\u001b[0m",
            "\u001b[0;31mNameError\u001b[0m                                 Traceback (most recent call last)",
            "\u001b[0;32m<ipython-input-31-a1aacf217578>\u001b[0m in \u001b[0;36m<module>\u001b[0;34m()\u001b[0m\n\u001b[0;32m----> 1\u001b[0;31m \u001b[0msys\u001b[0m\u001b[0;34m.\u001b[0m\u001b[0mgetrefcount\u001b[0m\u001b[0;34m(\u001b[0m\u001b[0mdireito\u001b[0m\u001b[0;34m)\u001b[0m  \u001b[0;31m#analisando o contador de referencias\u001b[0m\u001b[0;34m\u001b[0m\u001b[0;34m\u001b[0m\u001b[0m\n\u001b[0m",
            "\u001b[0;31mNameError\u001b[0m: name 'direito' is not defined"
          ]
        }
      ]
    },
    {
      "cell_type": "code",
      "metadata": {
        "id": "t0pPqGlzx-Bz",
        "colab_type": "code",
        "colab": {}
      },
      "source": [
        "gc.set_debug(gc.DEBUG_SAVEALL) #utilizado para salvar os estados "
      ],
      "execution_count": 32,
      "outputs": []
    },
    {
      "cell_type": "code",
      "metadata": {
        "id": "Kc7H6o62ysZn",
        "colab_type": "code",
        "colab": {}
      },
      "source": [
        "lst = []\n",
        "lst.append(lst)\n",
        "lst_address = id(lst)"
      ],
      "execution_count": 33,
      "outputs": []
    },
    {
      "cell_type": "code",
      "metadata": {
        "id": "chfsl_M-yvbz",
        "colab_type": "code",
        "colab": {}
      },
      "source": [
        "del lst"
      ],
      "execution_count": 34,
      "outputs": []
    },
    {
      "cell_type": "code",
      "metadata": {
        "id": "TYrLAybwyzKe",
        "colab_type": "code",
        "colab": {}
      },
      "source": [
        "object_1 = {}\n",
        "object_2 = {}\n",
        "object_1['obj2'] = object_2\n",
        "object_2['obj1'] = object_1\n",
        "obj_address = id(object_1)"
      ],
      "execution_count": 35,
      "outputs": []
    },
    {
      "cell_type": "code",
      "metadata": {
        "id": "4ATT9m09y4Wb",
        "colab_type": "code",
        "colab": {}
      },
      "source": [
        "del object_1, object_2"
      ],
      "execution_count": 36,
      "outputs": []
    },
    {
      "cell_type": "code",
      "metadata": {
        "id": "k6LAMa97zBYq",
        "colab_type": "code",
        "colab": {
          "base_uri": "https://localhost:8080/",
          "height": 34
        },
        "outputId": "bcb1f43c-cc46-4d36-9ed3-cc9266283771"
      },
      "source": [
        "gc.collect()  #conta a quantidade de variáveis \"deletadas\""
      ],
      "execution_count": 37,
      "outputs": [
        {
          "output_type": "execute_result",
          "data": {
            "text/plain": [
              "104"
            ]
          },
          "metadata": {
            "tags": []
          },
          "execution_count": 37
        }
      ]
    },
    {
      "cell_type": "code",
      "metadata": {
        "id": "56d5lqxZzS47",
        "colab_type": "code",
        "colab": {
          "base_uri": "https://localhost:8080/",
          "height": 51
        },
        "outputId": "a2a22a78-8b1b-4b6d-ab46-3f700aa83d7c"
      },
      "source": [
        "print(sys.getrefcount(obj_address))\n",
        "print(sys.getrefcount(lst_address))"
      ],
      "execution_count": 38,
      "outputs": [
        {
          "output_type": "stream",
          "text": [
            "2\n",
            "2\n"
          ],
          "name": "stdout"
        }
      ]
    },
    {
      "cell_type": "code",
      "metadata": {
        "id": "3pbxY58Hjoy-",
        "colab_type": "code",
        "colab": {
          "base_uri": "https://localhost:8080/",
          "height": 34
        },
        "outputId": "3260f20f-27e9-4726-c33c-334640d0a983"
      },
      "source": [
        "gc.get_count()"
      ],
      "execution_count": 39,
      "outputs": [
        {
          "output_type": "execute_result",
          "data": {
            "text/plain": [
              "(108, 0, 0)"
            ]
          },
          "metadata": {
            "tags": []
          },
          "execution_count": 39
        }
      ]
    }
  ]
}